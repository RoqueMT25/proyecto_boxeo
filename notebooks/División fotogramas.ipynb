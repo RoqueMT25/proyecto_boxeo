{
 "cells": [
  {
   "cell_type": "code",
   "execution_count": 1,
   "id": "0a69d407-9ac1-431d-a16a-00106c22c2fb",
   "metadata": {},
   "outputs": [],
   "source": [
    "import cv2\n",
    "import os"
   ]
  },
  {
   "cell_type": "code",
   "execution_count": 2,
   "id": "9f69c5b5-e804-4dc0-94b9-584aa72c5048",
   "metadata": {},
   "outputs": [],
   "source": [
    "# Directorio de salida para los fotogramas\n",
    "output_dir = \"fotogramas\"\n",
    "if not os.path.exists(output_dir):\n",
    "    os.makedirs(output_dir)"
   ]
  },
  {
   "cell_type": "code",
   "execution_count": 3,
   "id": "28d93a37-0b1f-48a8-b6ed-2fec90021500",
   "metadata": {},
   "outputs": [],
   "source": [
    "\n",
    "# Función para extraer fotogramas de un video\n",
    "def extraer_fotogramas(video_path, output_dir):\n",
    "    cap = cv2.VideoCapture(video_path)\n",
    "    count = 0\n",
    "    video_name = os.path.splitext(os.path.basename(video_path))[0]\n",
    "\n",
    "    while cap.isOpened():\n",
    "        ret, frame = cap.read()\n",
    "        if not ret:\n",
    "            break\n",
    "        \n",
    "        frame_name = os.path.join(output_dir, f\"{video_name}_frame_{count:05d}.jpg\")\n",
    "        cv2.imwrite(frame_name, frame)\n",
    "        count += 1\n",
    "\n",
    "    cap.release()\n",
    "\n"
   ]
  },
  {
   "cell_type": "code",
   "execution_count": 6,
   "id": "afc1208d-aafe-4130-9897-3eb25701aa06",
   "metadata": {},
   "outputs": [],
   "source": [
    "# Extraer fotogramas de todos los videos en un directorio\n",
    "#video_dir = \"videos\"\n",
    "#for video_file in os.listdir(video_dir):\n",
    "#    video_path = os.path.join(video_dir, video_file)\n",
    "#    extraer_fotogramas(video_path, output_dir)"
   ]
  },
  {
   "cell_type": "code",
   "execution_count": 7,
   "id": "e12574aa-df93-4534-9cef-d37e236a2039",
   "metadata": {},
   "outputs": [],
   "source": [
    "# Directorio de salida para los fotogramas\n",
    "#output_dir = \"fotogramas\"\n",
    "#if not os.path.exists(output_dir):\n",
    "#    os.makedirs(output_dir)"
   ]
  },
  {
   "cell_type": "code",
   "execution_count": 11,
   "id": "4f59aff1-a359-44df-8559-304f31606ef4",
   "metadata": {},
   "outputs": [],
   "source": [
    "# Extraer fotogramas de todos los videos en un directorio\n",
    "#video_dir = \"10\"\n",
    "#for video_file in os.listdir(video_dir):\n",
    "#    video_path = os.path.join(video_dir, video_file)\n",
    "#    extraer_fotogramas(video_path, output_dir)"
   ]
  },
  {
   "cell_type": "code",
   "execution_count": 4,
   "id": "81dd7c60-8415-4327-ab7b-5c96f710010c",
   "metadata": {},
   "outputs": [],
   "source": [
    "# Extraer fotogramas de todos los videos en un directorio\n",
    "video_dir = \"cortes_aislar\"\n",
    "for video_file in os.listdir(video_dir):\n",
    "    video_path = os.path.join(video_dir, video_file)\n",
    "    extraer_fotogramas(video_path, output_dir)"
   ]
  },
  {
   "cell_type": "code",
   "execution_count": 4,
   "id": "53ec553e-daed-4411-a3ee-197a3865ba89",
   "metadata": {},
   "outputs": [],
   "source": [
    "video_dir = \"videos\"\n",
    "for video_file in os.listdir(video_dir):\n",
    "    video_path = os.path.join(video_dir, video_file)\n",
    "    extraer_fotogramas(video_path, output_dir)"
   ]
  },
  {
   "cell_type": "code",
   "execution_count": null,
   "id": "c67d7243-b1be-4f64-9bec-a11b2f43aa2c",
   "metadata": {},
   "outputs": [],
   "source": []
  },
  {
   "cell_type": "code",
   "execution_count": null,
   "id": "465d3dbe-0376-4275-8a02-4b203e461eb2",
   "metadata": {},
   "outputs": [],
   "source": []
  },
  {
   "cell_type": "code",
   "execution_count": null,
   "id": "e9b8e0c6-56ba-45d2-a028-f8ef293bac0f",
   "metadata": {},
   "outputs": [],
   "source": []
  },
  {
   "cell_type": "code",
   "execution_count": null,
   "id": "a4ab95ef-a116-439b-981f-db856420fb7e",
   "metadata": {},
   "outputs": [],
   "source": []
  },
  {
   "cell_type": "code",
   "execution_count": null,
   "id": "1f2de524-b04e-4111-84f2-f649e0b4ea4f",
   "metadata": {},
   "outputs": [],
   "source": []
  },
  {
   "cell_type": "code",
   "execution_count": null,
   "id": "9668bf4e-3501-459b-af08-2e4bc6940995",
   "metadata": {},
   "outputs": [],
   "source": []
  },
  {
   "cell_type": "code",
   "execution_count": null,
   "id": "41f309ed-0279-4bec-af4a-129f94b64054",
   "metadata": {},
   "outputs": [],
   "source": []
  },
  {
   "cell_type": "code",
   "execution_count": null,
   "id": "0df85269-3e89-465f-ab04-0d6c20911b39",
   "metadata": {},
   "outputs": [],
   "source": []
  },
  {
   "cell_type": "code",
   "execution_count": null,
   "id": "dfb22a42-ca8c-4624-8c1f-eb1ae24f0978",
   "metadata": {},
   "outputs": [],
   "source": []
  },
  {
   "cell_type": "code",
   "execution_count": null,
   "id": "e3b8e9a1-6c32-4055-98a1-5594f7255df8",
   "metadata": {},
   "outputs": [],
   "source": []
  },
  {
   "cell_type": "code",
   "execution_count": null,
   "id": "b4b8d65d-8e25-489b-8353-9088a376e28a",
   "metadata": {},
   "outputs": [],
   "source": []
  },
  {
   "cell_type": "code",
   "execution_count": null,
   "id": "be62d92a-8cfb-443d-af43-628d1776df71",
   "metadata": {},
   "outputs": [],
   "source": []
  },
  {
   "cell_type": "code",
   "execution_count": null,
   "id": "6e264f6c-b248-4670-8e34-e934278c9768",
   "metadata": {},
   "outputs": [],
   "source": []
  },
  {
   "cell_type": "code",
   "execution_count": null,
   "id": "3612b32f-1244-42a4-b733-7b24cc09e498",
   "metadata": {},
   "outputs": [],
   "source": []
  }
 ],
 "metadata": {
  "kernelspec": {
   "display_name": "Python 3 (ipykernel)",
   "language": "python",
   "name": "python3"
  },
  "language_info": {
   "codemirror_mode": {
    "name": "ipython",
    "version": 3
   },
   "file_extension": ".py",
   "mimetype": "text/x-python",
   "name": "python",
   "nbconvert_exporter": "python",
   "pygments_lexer": "ipython3",
   "version": "3.11.4"
  }
 },
 "nbformat": 4,
 "nbformat_minor": 5
}
