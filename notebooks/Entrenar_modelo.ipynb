{
 "cells": [
  {
   "cell_type": "code",
   "execution_count": 1,
   "id": "85354d6f-2339-4736-941e-1636c5162194",
   "metadata": {},
   "outputs": [],
   "source": [
    "import os\n",
    "import csv"
   ]
  },
  {
   "cell_type": "code",
   "execution_count": 2,
   "id": "e3bf3e95-2d4f-4a7d-975e-c0ab3bd9d6ec",
   "metadata": {},
   "outputs": [
    {
     "name": "stdout",
     "output_type": "stream",
     "text": [
      "Archivo CSV 'archivos_carpetas.csv' creado exitosamente.\n"
     ]
    }
   ],
   "source": [
    "# Lista de carpetas y etiquetas correspondientes\n",
    "carpetas = [\n",
    "    (r\"C:\\Users\\Usuario\\Desktop\\mi_proyecto\\1bloqueo\", \"bloqueo\"),\n",
    "    (r\"C:\\Users\\Usuario\\Desktop\\mi_proyecto\\1crochet\", \"crochet\"),\n",
    "    (r\"C:\\Users\\Usuario\\Desktop\\mi_proyecto\\1cross\", \"cross\"),\n",
    "    (r\"C:\\Users\\Usuario\\Desktop\\mi_proyecto\\1esquiva\", \"esquiva\"),\n",
    "    (r\"C:\\Users\\Usuario\\Desktop\\mi_proyecto\\1hook\", \"hook\"),\n",
    "    (r\"C:\\Users\\Usuario\\Desktop\\mi_proyecto\\1jab\", \"jab\"),\n",
    "    (r\"C:\\Users\\Usuario\\Desktop\\mi_proyecto\\1overhand\", \"overhand\"),\n",
    "    (r\"C:\\Users\\Usuario\\Desktop\\mi_proyecto\\1uppercut\", \"uppercut\"),\n",
    "    (r\"C:\\Users\\Usuario\\Desktop\\mi_proyecto\\1sin_accion\",\"sin_accion\")\n",
    "]\n",
    "\n",
    "# Nombre del archivo CSV de salida\n",
    "csv_output = \"archivos_carpetas.csv\"\n",
    "\n",
    "# Crear y abrir el archivo CSV para escritura\n",
    "with open(csv_output, mode='w', newline='', encoding='utf-8') as file:\n",
    "    writer = csv.writer(file)\n",
    "    # Escribir la cabecera del CSV\n",
    "    writer.writerow([\"nombre_archivo\", \"etiqueta\"])\n",
    "    \n",
    "    # Recorrer cada carpeta y su etiqueta correspondiente\n",
    "    for carpeta, etiqueta in carpetas:\n",
    "        # Recorrer cada archivo en la carpeta\n",
    "        for archivo in os.listdir(carpeta):\n",
    "            # Crear la ruta completa del archivo\n",
    "            archivo_path = os.path.join(carpeta, archivo)\n",
    "            # Verificar si es un archivo (y no una subcarpeta)\n",
    "            if os.path.isfile(archivo_path):\n",
    "                # Escribir la información en el CSV\n",
    "                writer.writerow([archivo, etiqueta])\n",
    "\n",
    "print(f\"Archivo CSV '{csv_output}' creado exitosamente.\")"
   ]
  },
  {
   "cell_type": "code",
   "execution_count": 3,
   "id": "02ca6279-5f59-4022-a508-578919f26472",
   "metadata": {},
   "outputs": [],
   "source": [
    "#preprocesamiento de las imágenes, que incluye la normalización y el redimensionamiento, \n",
    "#y luego la división del dataset en conjuntos de entrenamiento, validación y prueba"
   ]
  },
  {
   "cell_type": "markdown",
   "id": "a79db280-ad34-4d82-b994-9bd3696ac435",
   "metadata": {},
   "source": [
    "###  Importar Librerías y Configuración"
   ]
  },
  {
   "cell_type": "code",
   "execution_count": 4,
   "id": "fb7df659-09aa-4e98-82e8-e0e764983cb9",
   "metadata": {},
   "outputs": [],
   "source": [
    "import os\n",
    "import numpy as np\n",
    "import pandas as pd\n",
    "import cv2\n",
    "from sklearn.model_selection import train_test_split\n",
    "from tensorflow.keras.models import Sequential\n",
    "from tensorflow.keras.layers import Conv2D, MaxPooling2D, Flatten, Dense, Dropout, LSTM, TimeDistributed, Reshape\n",
    "from tensorflow.keras.optimizers import Adam\n",
    "from tensorflow.keras.callbacks import EarlyStopping\n",
    "from tensorflow.keras.preprocessing.image import ImageDataGenerator\n",
    "import matplotlib.pyplot as plt\n",
    "import seaborn as sns\n",
    "\n",
    "# Configuración\n",
    "image_size = (64, 64)  # Tamaño al que redimensionar las imágenes\n",
    "csv_path = r\"C:\\Users\\Usuario\\Desktop\\mi_proyecto\\archivos_carpetas.csv\"\n",
    "image_dir = r\"C:\\Users\\Usuario\\Desktop\\mi_proyecto\\imagenes\"\n",
    "output_dir = r\"C:\\Users\\Usuario\\Desktop\\mi_proyecto\\imagenes_procesadas\"\n",
    "\n",
    "# Leer el archivo CSV\n",
    "df = pd.read_csv(csv_path)"
   ]
  },
  {
   "cell_type": "markdown",
   "id": "712c23c2-3bad-42ad-bc07-60e2387144c6",
   "metadata": {},
   "source": [
    "### Cargar y Preprocesar Imágenes"
   ]
  },
  {
   "cell_type": "code",
   "execution_count": 5,
   "id": "633640ec-30ad-469b-92bb-5c132c3e7376",
   "metadata": {},
   "outputs": [
    {
     "name": "stdout",
     "output_type": "stream",
     "text": [
      "Preprocesamiento completado y datos guardados.\n"
     ]
    }
   ],
   "source": [
    "# Función para cargar y preprocesar imágenes\n",
    "def load_and_preprocess_image(filepath):\n",
    "    if not os.path.exists(filepath):\n",
    "        print(f\"Archivo no encontrado: {filepath}\")\n",
    "        return None\n",
    "    image = cv2.imread(filepath)\n",
    "    if image is None:\n",
    "        print(f\"Error al cargar la imagen: {filepath}\")\n",
    "        return None\n",
    "    image = cv2.resize(image, image_size)\n",
    "    image = cv2.cvtColor(image, cv2.COLOR_BGR2RGB)\n",
    "    image = image / 255.0  # Normalizar la imagen\n",
    "    return image\n",
    "\n",
    "# Cargar y preprocesar las imágenes\n",
    "def load_images(df):\n",
    "    images = []\n",
    "    labels = []\n",
    "    for index, row in df.iterrows():\n",
    "        filepath = os.path.join(image_dir, row['nombre_archivo'])\n",
    "        image = load_and_preprocess_image(filepath)\n",
    "        if image is not None:\n",
    "            images.append(image)\n",
    "            labels.append(row['etiqueta'])\n",
    "    return np.array(images), np.array(labels)\n",
    "\n",
    "# Convertir etiquetas a números\n",
    "def convert_labels(labels):\n",
    "    label_mapping = {label: idx for idx, label in enumerate(np.unique(labels))}\n",
    "    return np.array([label_mapping[label] for label in labels])\n",
    "\n",
    "# Cargar y dividir datos\n",
    "images, labels = load_images(df)\n",
    "labels = convert_labels(labels)\n",
    "X_train, X_temp, y_train, y_temp = train_test_split(images, labels, test_size=0.3, random_state=42)\n",
    "X_val, X_test, y_val, y_test = train_test_split(X_temp, y_temp, test_size=0.5, random_state=42)\n",
    "\n",
    "# Guardar los conjuntos de datos\n",
    "if not os.path.exists(output_dir):\n",
    "    os.makedirs(output_dir)\n",
    "\n",
    "np.save(os.path.join(output_dir, 'X_train.npy'), X_train)\n",
    "np.save(os.path.join(output_dir, 'y_train.npy'), y_train)\n",
    "np.save(os.path.join(output_dir, 'X_val.npy'), X_val)\n",
    "np.save(os.path.join(output_dir, 'y_val.npy'), y_val)\n",
    "np.save(os.path.join(output_dir, 'X_test.npy'), X_test)\n",
    "np.save(os.path.join(output_dir, 'y_test.npy'), y_test)\n",
    "\n",
    "print(\"Preprocesamiento completado y datos guardados.\")"
   ]
  },
  {
   "cell_type": "markdown",
   "id": "308d1b87-7476-4bb4-8f23-b170cf68a35d",
   "metadata": {},
   "source": [
    "### Crear Secuencias de Datos"
   ]
  },
  {
   "cell_type": "code",
   "execution_count": 6,
   "id": "dcf37840-765b-426c-8721-6104c806b595",
   "metadata": {},
   "outputs": [
    {
     "name": "stdout",
     "output_type": "stream",
     "text": [
      "X_train_seq shape: (9938, 10, 64, 64, 3)\n",
      "y_train_seq shape: (9938,)\n",
      "X_val_seq shape: (2123, 10, 64, 64, 3)\n",
      "y_val_seq shape: (2123,)\n",
      "X_test_seq shape: (2123, 10, 64, 64, 3)\n",
      "y_test_seq shape: (2123,)\n"
     ]
    }
   ],
   "source": [
    "# Función para crear secuencias\n",
    "def create_sequences(data, labels, seq_length):\n",
    "    sequences = []\n",
    "    sequence_labels = []\n",
    "    for i in range(len(data) - seq_length + 1):\n",
    "        sequences.append(data[i:i + seq_length])\n",
    "        sequence_labels.append(labels[i + seq_length - 1])\n",
    "    return np.array(sequences), np.array(sequence_labels)\n",
    "\n",
    "# Cargar los conjuntos de datos preprocesados\n",
    "X_train = np.load(os.path.join(output_dir, 'X_train.npy'))\n",
    "y_train = np.load(os.path.join(output_dir, 'y_train.npy'))\n",
    "X_val = np.load(os.path.join(output_dir, 'X_val.npy'))\n",
    "y_val = np.load(os.path.join(output_dir, 'y_val.npy'))\n",
    "X_test = np.load(os.path.join(output_dir, 'X_test.npy'))\n",
    "y_test = np.load(os.path.join(output_dir, 'y_test.npy'))\n",
    "\n",
    "# Crear secuencias para los datos de entrenamiento, validación y prueba\n",
    "seq_length = 10\n",
    "X_train_seq, y_train_seq = create_sequences(X_train, y_train, seq_length)\n",
    "X_val_seq, y_val_seq = create_sequences(X_val, y_val, seq_length)\n",
    "X_test_seq, y_test_seq = create_sequences(X_test, y_test, seq_length)\n",
    "\n",
    "print(f\"X_train_seq shape: {X_train_seq.shape}\")\n",
    "print(f\"y_train_seq shape: {y_train_seq.shape}\")\n",
    "print(f\"X_val_seq shape: {X_val_seq.shape}\")\n",
    "print(f\"y_val_seq shape: {y_val_seq.shape}\")\n",
    "print(f\"X_test_seq shape: {X_test_seq.shape}\")\n",
    "print(f\"y_test_seq shape: {y_test_seq.shape}\")"
   ]
  },
  {
   "cell_type": "markdown",
   "id": "55686736-aa18-4ca0-a7f4-36202c3b0514",
   "metadata": {},
   "source": [
    "### Definir y Compilar el Modelo"
   ]
  },
  {
   "cell_type": "code",
   "execution_count": 7,
   "id": "48580128-6cd0-4742-a0c8-9001fea09487",
   "metadata": {},
   "outputs": [
    {
     "name": "stderr",
     "output_type": "stream",
     "text": [
      "C:\\Users\\Usuario\\AppData\\Roaming\\Python\\Python311\\site-packages\\keras\\src\\layers\\core\\wrapper.py:27: UserWarning: Do not pass an `input_shape`/`input_dim` argument to a layer. When using Sequential models, prefer using an `Input(shape)` object as the first layer in the model instead.\n",
      "  super().__init__(**kwargs)\n"
     ]
    },
    {
     "data": {
      "text/html": [
       "<pre style=\"white-space:pre;overflow-x:auto;line-height:normal;font-family:Menlo,'DejaVu Sans Mono',consolas,'Courier New',monospace\"><span style=\"font-weight: bold\">Model: \"sequential\"</span>\n",
       "</pre>\n"
      ],
      "text/plain": [
       "\u001b[1mModel: \"sequential\"\u001b[0m\n"
      ]
     },
     "metadata": {},
     "output_type": "display_data"
    },
    {
     "data": {
      "text/html": [
       "<pre style=\"white-space:pre;overflow-x:auto;line-height:normal;font-family:Menlo,'DejaVu Sans Mono',consolas,'Courier New',monospace\">┏━━━━━━━━━━━━━━━━━━━━━━━━━━━━━━━━━━━━━━┳━━━━━━━━━━━━━━━━━━━━━━━━━━━━━┳━━━━━━━━━━━━━━━━━┓\n",
       "┃<span style=\"font-weight: bold\"> Layer (type)                         </span>┃<span style=\"font-weight: bold\"> Output Shape                </span>┃<span style=\"font-weight: bold\">         Param # </span>┃\n",
       "┡━━━━━━━━━━━━━━━━━━━━━━━━━━━━━━━━━━━━━━╇━━━━━━━━━━━━━━━━━━━━━━━━━━━━━╇━━━━━━━━━━━━━━━━━┩\n",
       "│ time_distributed (<span style=\"color: #0087ff; text-decoration-color: #0087ff\">TimeDistributed</span>)   │ (<span style=\"color: #00d7ff; text-decoration-color: #00d7ff\">None</span>, <span style=\"color: #00af00; text-decoration-color: #00af00\">10</span>, <span style=\"color: #00af00; text-decoration-color: #00af00\">62</span>, <span style=\"color: #00af00; text-decoration-color: #00af00\">62</span>, <span style=\"color: #00af00; text-decoration-color: #00af00\">32</span>)      │             <span style=\"color: #00af00; text-decoration-color: #00af00\">896</span> │\n",
       "├──────────────────────────────────────┼─────────────────────────────┼─────────────────┤\n",
       "│ time_distributed_1 (<span style=\"color: #0087ff; text-decoration-color: #0087ff\">TimeDistributed</span>) │ (<span style=\"color: #00d7ff; text-decoration-color: #00d7ff\">None</span>, <span style=\"color: #00af00; text-decoration-color: #00af00\">10</span>, <span style=\"color: #00af00; text-decoration-color: #00af00\">31</span>, <span style=\"color: #00af00; text-decoration-color: #00af00\">31</span>, <span style=\"color: #00af00; text-decoration-color: #00af00\">32</span>)      │               <span style=\"color: #00af00; text-decoration-color: #00af00\">0</span> │\n",
       "├──────────────────────────────────────┼─────────────────────────────┼─────────────────┤\n",
       "│ time_distributed_2 (<span style=\"color: #0087ff; text-decoration-color: #0087ff\">TimeDistributed</span>) │ (<span style=\"color: #00d7ff; text-decoration-color: #00d7ff\">None</span>, <span style=\"color: #00af00; text-decoration-color: #00af00\">10</span>, <span style=\"color: #00af00; text-decoration-color: #00af00\">29</span>, <span style=\"color: #00af00; text-decoration-color: #00af00\">29</span>, <span style=\"color: #00af00; text-decoration-color: #00af00\">64</span>)      │          <span style=\"color: #00af00; text-decoration-color: #00af00\">18,496</span> │\n",
       "├──────────────────────────────────────┼─────────────────────────────┼─────────────────┤\n",
       "│ time_distributed_3 (<span style=\"color: #0087ff; text-decoration-color: #0087ff\">TimeDistributed</span>) │ (<span style=\"color: #00d7ff; text-decoration-color: #00d7ff\">None</span>, <span style=\"color: #00af00; text-decoration-color: #00af00\">10</span>, <span style=\"color: #00af00; text-decoration-color: #00af00\">14</span>, <span style=\"color: #00af00; text-decoration-color: #00af00\">14</span>, <span style=\"color: #00af00; text-decoration-color: #00af00\">64</span>)      │               <span style=\"color: #00af00; text-decoration-color: #00af00\">0</span> │\n",
       "├──────────────────────────────────────┼─────────────────────────────┼─────────────────┤\n",
       "│ time_distributed_4 (<span style=\"color: #0087ff; text-decoration-color: #0087ff\">TimeDistributed</span>) │ (<span style=\"color: #00d7ff; text-decoration-color: #00d7ff\">None</span>, <span style=\"color: #00af00; text-decoration-color: #00af00\">10</span>, <span style=\"color: #00af00; text-decoration-color: #00af00\">12</span>, <span style=\"color: #00af00; text-decoration-color: #00af00\">12</span>, <span style=\"color: #00af00; text-decoration-color: #00af00\">128</span>)     │          <span style=\"color: #00af00; text-decoration-color: #00af00\">73,856</span> │\n",
       "├──────────────────────────────────────┼─────────────────────────────┼─────────────────┤\n",
       "│ time_distributed_5 (<span style=\"color: #0087ff; text-decoration-color: #0087ff\">TimeDistributed</span>) │ (<span style=\"color: #00d7ff; text-decoration-color: #00d7ff\">None</span>, <span style=\"color: #00af00; text-decoration-color: #00af00\">10</span>, <span style=\"color: #00af00; text-decoration-color: #00af00\">6</span>, <span style=\"color: #00af00; text-decoration-color: #00af00\">6</span>, <span style=\"color: #00af00; text-decoration-color: #00af00\">128</span>)       │               <span style=\"color: #00af00; text-decoration-color: #00af00\">0</span> │\n",
       "├──────────────────────────────────────┼─────────────────────────────┼─────────────────┤\n",
       "│ time_distributed_6 (<span style=\"color: #0087ff; text-decoration-color: #0087ff\">TimeDistributed</span>) │ (<span style=\"color: #00d7ff; text-decoration-color: #00d7ff\">None</span>, <span style=\"color: #00af00; text-decoration-color: #00af00\">10</span>, <span style=\"color: #00af00; text-decoration-color: #00af00\">4608</span>)            │               <span style=\"color: #00af00; text-decoration-color: #00af00\">0</span> │\n",
       "├──────────────────────────────────────┼─────────────────────────────┼─────────────────┤\n",
       "│ lstm (<span style=\"color: #0087ff; text-decoration-color: #0087ff\">LSTM</span>)                          │ (<span style=\"color: #00d7ff; text-decoration-color: #00d7ff\">None</span>, <span style=\"color: #00af00; text-decoration-color: #00af00\">64</span>)                  │       <span style=\"color: #00af00; text-decoration-color: #00af00\">1,196,288</span> │\n",
       "├──────────────────────────────────────┼─────────────────────────────┼─────────────────┤\n",
       "│ dense (<span style=\"color: #0087ff; text-decoration-color: #0087ff\">Dense</span>)                        │ (<span style=\"color: #00d7ff; text-decoration-color: #00d7ff\">None</span>, <span style=\"color: #00af00; text-decoration-color: #00af00\">512</span>)                 │          <span style=\"color: #00af00; text-decoration-color: #00af00\">33,280</span> │\n",
       "├──────────────────────────────────────┼─────────────────────────────┼─────────────────┤\n",
       "│ dropout (<span style=\"color: #0087ff; text-decoration-color: #0087ff\">Dropout</span>)                    │ (<span style=\"color: #00d7ff; text-decoration-color: #00d7ff\">None</span>, <span style=\"color: #00af00; text-decoration-color: #00af00\">512</span>)                 │               <span style=\"color: #00af00; text-decoration-color: #00af00\">0</span> │\n",
       "├──────────────────────────────────────┼─────────────────────────────┼─────────────────┤\n",
       "│ dense_1 (<span style=\"color: #0087ff; text-decoration-color: #0087ff\">Dense</span>)                      │ (<span style=\"color: #00d7ff; text-decoration-color: #00d7ff\">None</span>, <span style=\"color: #00af00; text-decoration-color: #00af00\">9</span>)                   │           <span style=\"color: #00af00; text-decoration-color: #00af00\">4,617</span> │\n",
       "└──────────────────────────────────────┴─────────────────────────────┴─────────────────┘\n",
       "</pre>\n"
      ],
      "text/plain": [
       "┏━━━━━━━━━━━━━━━━━━━━━━━━━━━━━━━━━━━━━━┳━━━━━━━━━━━━━━━━━━━━━━━━━━━━━┳━━━━━━━━━━━━━━━━━┓\n",
       "┃\u001b[1m \u001b[0m\u001b[1mLayer (type)                        \u001b[0m\u001b[1m \u001b[0m┃\u001b[1m \u001b[0m\u001b[1mOutput Shape               \u001b[0m\u001b[1m \u001b[0m┃\u001b[1m \u001b[0m\u001b[1m        Param #\u001b[0m\u001b[1m \u001b[0m┃\n",
       "┡━━━━━━━━━━━━━━━━━━━━━━━━━━━━━━━━━━━━━━╇━━━━━━━━━━━━━━━━━━━━━━━━━━━━━╇━━━━━━━━━━━━━━━━━┩\n",
       "│ time_distributed (\u001b[38;5;33mTimeDistributed\u001b[0m)   │ (\u001b[38;5;45mNone\u001b[0m, \u001b[38;5;34m10\u001b[0m, \u001b[38;5;34m62\u001b[0m, \u001b[38;5;34m62\u001b[0m, \u001b[38;5;34m32\u001b[0m)      │             \u001b[38;5;34m896\u001b[0m │\n",
       "├──────────────────────────────────────┼─────────────────────────────┼─────────────────┤\n",
       "│ time_distributed_1 (\u001b[38;5;33mTimeDistributed\u001b[0m) │ (\u001b[38;5;45mNone\u001b[0m, \u001b[38;5;34m10\u001b[0m, \u001b[38;5;34m31\u001b[0m, \u001b[38;5;34m31\u001b[0m, \u001b[38;5;34m32\u001b[0m)      │               \u001b[38;5;34m0\u001b[0m │\n",
       "├──────────────────────────────────────┼─────────────────────────────┼─────────────────┤\n",
       "│ time_distributed_2 (\u001b[38;5;33mTimeDistributed\u001b[0m) │ (\u001b[38;5;45mNone\u001b[0m, \u001b[38;5;34m10\u001b[0m, \u001b[38;5;34m29\u001b[0m, \u001b[38;5;34m29\u001b[0m, \u001b[38;5;34m64\u001b[0m)      │          \u001b[38;5;34m18,496\u001b[0m │\n",
       "├──────────────────────────────────────┼─────────────────────────────┼─────────────────┤\n",
       "│ time_distributed_3 (\u001b[38;5;33mTimeDistributed\u001b[0m) │ (\u001b[38;5;45mNone\u001b[0m, \u001b[38;5;34m10\u001b[0m, \u001b[38;5;34m14\u001b[0m, \u001b[38;5;34m14\u001b[0m, \u001b[38;5;34m64\u001b[0m)      │               \u001b[38;5;34m0\u001b[0m │\n",
       "├──────────────────────────────────────┼─────────────────────────────┼─────────────────┤\n",
       "│ time_distributed_4 (\u001b[38;5;33mTimeDistributed\u001b[0m) │ (\u001b[38;5;45mNone\u001b[0m, \u001b[38;5;34m10\u001b[0m, \u001b[38;5;34m12\u001b[0m, \u001b[38;5;34m12\u001b[0m, \u001b[38;5;34m128\u001b[0m)     │          \u001b[38;5;34m73,856\u001b[0m │\n",
       "├──────────────────────────────────────┼─────────────────────────────┼─────────────────┤\n",
       "│ time_distributed_5 (\u001b[38;5;33mTimeDistributed\u001b[0m) │ (\u001b[38;5;45mNone\u001b[0m, \u001b[38;5;34m10\u001b[0m, \u001b[38;5;34m6\u001b[0m, \u001b[38;5;34m6\u001b[0m, \u001b[38;5;34m128\u001b[0m)       │               \u001b[38;5;34m0\u001b[0m │\n",
       "├──────────────────────────────────────┼─────────────────────────────┼─────────────────┤\n",
       "│ time_distributed_6 (\u001b[38;5;33mTimeDistributed\u001b[0m) │ (\u001b[38;5;45mNone\u001b[0m, \u001b[38;5;34m10\u001b[0m, \u001b[38;5;34m4608\u001b[0m)            │               \u001b[38;5;34m0\u001b[0m │\n",
       "├──────────────────────────────────────┼─────────────────────────────┼─────────────────┤\n",
       "│ lstm (\u001b[38;5;33mLSTM\u001b[0m)                          │ (\u001b[38;5;45mNone\u001b[0m, \u001b[38;5;34m64\u001b[0m)                  │       \u001b[38;5;34m1,196,288\u001b[0m │\n",
       "├──────────────────────────────────────┼─────────────────────────────┼─────────────────┤\n",
       "│ dense (\u001b[38;5;33mDense\u001b[0m)                        │ (\u001b[38;5;45mNone\u001b[0m, \u001b[38;5;34m512\u001b[0m)                 │          \u001b[38;5;34m33,280\u001b[0m │\n",
       "├──────────────────────────────────────┼─────────────────────────────┼─────────────────┤\n",
       "│ dropout (\u001b[38;5;33mDropout\u001b[0m)                    │ (\u001b[38;5;45mNone\u001b[0m, \u001b[38;5;34m512\u001b[0m)                 │               \u001b[38;5;34m0\u001b[0m │\n",
       "├──────────────────────────────────────┼─────────────────────────────┼─────────────────┤\n",
       "│ dense_1 (\u001b[38;5;33mDense\u001b[0m)                      │ (\u001b[38;5;45mNone\u001b[0m, \u001b[38;5;34m9\u001b[0m)                   │           \u001b[38;5;34m4,617\u001b[0m │\n",
       "└──────────────────────────────────────┴─────────────────────────────┴─────────────────┘\n"
      ]
     },
     "metadata": {},
     "output_type": "display_data"
    },
    {
     "data": {
      "text/html": [
       "<pre style=\"white-space:pre;overflow-x:auto;line-height:normal;font-family:Menlo,'DejaVu Sans Mono',consolas,'Courier New',monospace\"><span style=\"font-weight: bold\"> Total params: </span><span style=\"color: #00af00; text-decoration-color: #00af00\">1,327,433</span> (5.06 MB)\n",
       "</pre>\n"
      ],
      "text/plain": [
       "\u001b[1m Total params: \u001b[0m\u001b[38;5;34m1,327,433\u001b[0m (5.06 MB)\n"
      ]
     },
     "metadata": {},
     "output_type": "display_data"
    },
    {
     "data": {
      "text/html": [
       "<pre style=\"white-space:pre;overflow-x:auto;line-height:normal;font-family:Menlo,'DejaVu Sans Mono',consolas,'Courier New',monospace\"><span style=\"font-weight: bold\"> Trainable params: </span><span style=\"color: #00af00; text-decoration-color: #00af00\">1,327,433</span> (5.06 MB)\n",
       "</pre>\n"
      ],
      "text/plain": [
       "\u001b[1m Trainable params: \u001b[0m\u001b[38;5;34m1,327,433\u001b[0m (5.06 MB)\n"
      ]
     },
     "metadata": {},
     "output_type": "display_data"
    },
    {
     "data": {
      "text/html": [
       "<pre style=\"white-space:pre;overflow-x:auto;line-height:normal;font-family:Menlo,'DejaVu Sans Mono',consolas,'Courier New',monospace\"><span style=\"font-weight: bold\"> Non-trainable params: </span><span style=\"color: #00af00; text-decoration-color: #00af00\">0</span> (0.00 B)\n",
       "</pre>\n"
      ],
      "text/plain": [
       "\u001b[1m Non-trainable params: \u001b[0m\u001b[38;5;34m0\u001b[0m (0.00 B)\n"
      ]
     },
     "metadata": {},
     "output_type": "display_data"
    }
   ],
   "source": [
    "# Definir la arquitectura del modelo CNN + LSTM\n",
    "model = Sequential([\n",
    "    TimeDistributed(Conv2D(32, (3, 3), activation='relu'), input_shape=(seq_length, *image_size, 3)),\n",
    "    TimeDistributed(MaxPooling2D((2, 2))),\n",
    "    TimeDistributed(Conv2D(64, (3, 3), activation='relu')),\n",
    "    TimeDistributed(MaxPooling2D((2, 2))),\n",
    "    TimeDistributed(Conv2D(128, (3, 3), activation='relu')),\n",
    "    TimeDistributed(MaxPooling2D((2, 2))),\n",
    "    TimeDistributed(Flatten()),\n",
    "    LSTM(64, return_sequences=False),  # LSTM con return_sequences=False para salida plana antes de Dense\n",
    "    Dense(512, activation='relu'),\n",
    "    Dropout(0.5),\n",
    "    Dense(len(np.unique(y_train)), activation='softmax')\n",
    "])\n",
    "\n",
    "# Compilar el modelo\n",
    "model.compile(optimizer='adam', loss='sparse_categorical_crossentropy', metrics=['accuracy'])\n",
    "\n",
    "# Resumen del modelo\n",
    "model.summary()"
   ]
  },
  {
   "cell_type": "markdown",
   "id": "9f807da4-a437-4cae-8546-4fce3c2e4f31",
   "metadata": {},
   "source": [
    "### Entrenar el Modelo"
   ]
  },
  {
   "cell_type": "code",
   "execution_count": 8,
   "id": "efd15002-1e2e-443b-92e7-d00ddb34a2d3",
   "metadata": {},
   "outputs": [
    {
     "name": "stdout",
     "output_type": "stream",
     "text": [
      "Epoch 1/50\n",
      "\u001b[1m310/310\u001b[0m \u001b[32m━━━━━━━━━━━━━━━━━━━━\u001b[0m\u001b[37m\u001b[0m \u001b[1m366s\u001b[0m 1s/step - accuracy: 0.1554 - loss: 2.1303 - val_accuracy: 0.2945 - val_loss: 1.9380\n",
      "Epoch 2/50\n",
      "\u001b[1m310/310\u001b[0m \u001b[32m━━━━━━━━━━━━━━━━━━━━\u001b[0m\u001b[37m\u001b[0m \u001b[1m363s\u001b[0m 1s/step - accuracy: 0.3627 - loss: 1.7738 - val_accuracy: 0.5412 - val_loss: 1.3585\n",
      "Epoch 3/50\n",
      "\u001b[1m310/310\u001b[0m \u001b[32m━━━━━━━━━━━━━━━━━━━━\u001b[0m\u001b[37m\u001b[0m \u001b[1m367s\u001b[0m 1s/step - accuracy: 0.6835 - loss: 0.9739 - val_accuracy: 0.8163 - val_loss: 0.6033\n",
      "Epoch 4/50\n",
      "\u001b[1m310/310\u001b[0m \u001b[32m━━━━━━━━━━━━━━━━━━━━\u001b[0m\u001b[37m\u001b[0m \u001b[1m366s\u001b[0m 1s/step - accuracy: 0.8792 - loss: 0.3946 - val_accuracy: 0.8887 - val_loss: 0.3533\n",
      "Epoch 5/50\n",
      "\u001b[1m310/310\u001b[0m \u001b[32m━━━━━━━━━━━━━━━━━━━━\u001b[0m\u001b[37m\u001b[0m \u001b[1m366s\u001b[0m 1s/step - accuracy: 0.9421 - loss: 0.1974 - val_accuracy: 0.9295 - val_loss: 0.2399\n",
      "Epoch 6/50\n",
      "\u001b[1m310/310\u001b[0m \u001b[32m━━━━━━━━━━━━━━━━━━━━\u001b[0m\u001b[37m\u001b[0m \u001b[1m366s\u001b[0m 1s/step - accuracy: 0.9696 - loss: 0.1065 - val_accuracy: 0.9200 - val_loss: 0.2463\n",
      "Epoch 7/50\n",
      "\u001b[1m310/310\u001b[0m \u001b[32m━━━━━━━━━━━━━━━━━━━━\u001b[0m\u001b[37m\u001b[0m \u001b[1m365s\u001b[0m 1s/step - accuracy: 0.9730 - loss: 0.0933 - val_accuracy: 0.9437 - val_loss: 0.2100\n",
      "Epoch 8/50\n",
      "\u001b[1m310/310\u001b[0m \u001b[32m━━━━━━━━━━━━━━━━━━━━\u001b[0m\u001b[37m\u001b[0m \u001b[1m366s\u001b[0m 1s/step - accuracy: 0.9855 - loss: 0.0513 - val_accuracy: 0.9512 - val_loss: 0.1878\n",
      "Epoch 9/50\n",
      "\u001b[1m310/310\u001b[0m \u001b[32m━━━━━━━━━━━━━━━━━━━━\u001b[0m\u001b[37m\u001b[0m \u001b[1m367s\u001b[0m 1s/step - accuracy: 0.9848 - loss: 0.0511 - val_accuracy: 0.9583 - val_loss: 0.1386\n",
      "Epoch 10/50\n",
      "\u001b[1m310/310\u001b[0m \u001b[32m━━━━━━━━━━━━━━━━━━━━\u001b[0m\u001b[37m\u001b[0m \u001b[1m365s\u001b[0m 1s/step - accuracy: 0.9860 - loss: 0.0462 - val_accuracy: 0.9470 - val_loss: 0.1554\n",
      "Epoch 11/50\n",
      "\u001b[1m310/310\u001b[0m \u001b[32m━━━━━━━━━━━━━━━━━━━━\u001b[0m\u001b[37m\u001b[0m \u001b[1m364s\u001b[0m 1s/step - accuracy: 0.9908 - loss: 0.0299 - val_accuracy: 0.9555 - val_loss: 0.1514\n",
      "Epoch 12/50\n",
      "\u001b[1m310/310\u001b[0m \u001b[32m━━━━━━━━━━━━━━━━━━━━\u001b[0m\u001b[37m\u001b[0m \u001b[1m364s\u001b[0m 1s/step - accuracy: 0.9929 - loss: 0.0268 - val_accuracy: 0.9531 - val_loss: 0.2023\n",
      "Epoch 13/50\n",
      "\u001b[1m310/310\u001b[0m \u001b[32m━━━━━━━━━━━━━━━━━━━━\u001b[0m\u001b[37m\u001b[0m \u001b[1m368s\u001b[0m 1s/step - accuracy: 0.9913 - loss: 0.0328 - val_accuracy: 0.9545 - val_loss: 0.1693\n",
      "Epoch 14/50\n",
      "\u001b[1m310/310\u001b[0m \u001b[32m━━━━━━━━━━━━━━━━━━━━\u001b[0m\u001b[37m\u001b[0m \u001b[1m363s\u001b[0m 1s/step - accuracy: 0.9903 - loss: 0.0311 - val_accuracy: 0.9616 - val_loss: 0.1562\n",
      "Epoch 15/50\n",
      "\u001b[1m310/310\u001b[0m \u001b[32m━━━━━━━━━━━━━━━━━━━━\u001b[0m\u001b[37m\u001b[0m \u001b[1m365s\u001b[0m 1s/step - accuracy: 0.9967 - loss: 0.0132 - val_accuracy: 0.9522 - val_loss: 0.2009\n",
      "Epoch 16/50\n",
      "\u001b[1m310/310\u001b[0m \u001b[32m━━━━━━━━━━━━━━━━━━━━\u001b[0m\u001b[37m\u001b[0m \u001b[1m366s\u001b[0m 1s/step - accuracy: 0.9903 - loss: 0.0337 - val_accuracy: 0.9493 - val_loss: 0.1986\n",
      "Epoch 17/50\n",
      "\u001b[1m310/310\u001b[0m \u001b[32m━━━━━━━━━━━━━━━━━━━━\u001b[0m\u001b[37m\u001b[0m \u001b[1m363s\u001b[0m 1s/step - accuracy: 0.9801 - loss: 0.0667 - val_accuracy: 0.9437 - val_loss: 0.2085\n",
      "Epoch 18/50\n",
      "\u001b[1m310/310\u001b[0m \u001b[32m━━━━━━━━━━━━━━━━━━━━\u001b[0m\u001b[37m\u001b[0m \u001b[1m367s\u001b[0m 1s/step - accuracy: 0.9835 - loss: 0.0519 - val_accuracy: 0.9626 - val_loss: 0.1149\n",
      "Epoch 19/50\n",
      "\u001b[1m310/310\u001b[0m \u001b[32m━━━━━━━━━━━━━━━━━━━━\u001b[0m\u001b[37m\u001b[0m \u001b[1m397s\u001b[0m 1s/step - accuracy: 0.9960 - loss: 0.0126 - val_accuracy: 0.9664 - val_loss: 0.1378\n",
      "Epoch 20/50\n",
      "\u001b[1m310/310\u001b[0m \u001b[32m━━━━━━━━━━━━━━━━━━━━\u001b[0m\u001b[37m\u001b[0m \u001b[1m398s\u001b[0m 1s/step - accuracy: 0.9959 - loss: 0.0109 - val_accuracy: 0.9531 - val_loss: 0.1749\n",
      "Epoch 21/50\n",
      "\u001b[1m310/310\u001b[0m \u001b[32m━━━━━━━━━━━━━━━━━━━━\u001b[0m\u001b[37m\u001b[0m \u001b[1m394s\u001b[0m 1s/step - accuracy: 0.9927 - loss: 0.0232 - val_accuracy: 0.9555 - val_loss: 0.1669\n",
      "Epoch 22/50\n",
      "\u001b[1m310/310\u001b[0m \u001b[32m━━━━━━━━━━━━━━━━━━━━\u001b[0m\u001b[37m\u001b[0m \u001b[1m387s\u001b[0m 1s/step - accuracy: 0.9925 - loss: 0.0250 - val_accuracy: 0.9697 - val_loss: 0.1070\n",
      "Epoch 23/50\n",
      "\u001b[1m310/310\u001b[0m \u001b[32m━━━━━━━━━━━━━━━━━━━━\u001b[0m\u001b[37m\u001b[0m \u001b[1m396s\u001b[0m 1s/step - accuracy: 0.9974 - loss: 0.0111 - val_accuracy: 0.9588 - val_loss: 0.2003\n",
      "Epoch 24/50\n",
      "\u001b[1m310/310\u001b[0m \u001b[32m━━━━━━━━━━━━━━━━━━━━\u001b[0m\u001b[37m\u001b[0m \u001b[1m385s\u001b[0m 1s/step - accuracy: 0.9975 - loss: 0.0099 - val_accuracy: 0.9612 - val_loss: 0.1928\n",
      "Epoch 25/50\n",
      "\u001b[1m310/310\u001b[0m \u001b[32m━━━━━━━━━━━━━━━━━━━━\u001b[0m\u001b[37m\u001b[0m \u001b[1m369s\u001b[0m 1s/step - accuracy: 0.9930 - loss: 0.0209 - val_accuracy: 0.9702 - val_loss: 0.1370\n",
      "Epoch 26/50\n",
      "\u001b[1m310/310\u001b[0m \u001b[32m━━━━━━━━━━━━━━━━━━━━\u001b[0m\u001b[37m\u001b[0m \u001b[1m366s\u001b[0m 1s/step - accuracy: 0.9891 - loss: 0.0380 - val_accuracy: 0.9536 - val_loss: 0.1978\n",
      "Epoch 27/50\n",
      "\u001b[1m310/310\u001b[0m \u001b[32m━━━━━━━━━━━━━━━━━━━━\u001b[0m\u001b[37m\u001b[0m \u001b[1m364s\u001b[0m 1s/step - accuracy: 0.9895 - loss: 0.0312 - val_accuracy: 0.9602 - val_loss: 0.1702\n",
      "Epoch 28/50\n",
      "\u001b[1m310/310\u001b[0m \u001b[32m━━━━━━━━━━━━━━━━━━━━\u001b[0m\u001b[37m\u001b[0m \u001b[1m375s\u001b[0m 1s/step - accuracy: 0.9930 - loss: 0.0211 - val_accuracy: 0.9669 - val_loss: 0.1548\n",
      "Epoch 29/50\n",
      "\u001b[1m310/310\u001b[0m \u001b[32m━━━━━━━━━━━━━━━━━━━━\u001b[0m\u001b[37m\u001b[0m \u001b[1m392s\u001b[0m 1s/step - accuracy: 0.9977 - loss: 0.0081 - val_accuracy: 0.9579 - val_loss: 0.1562\n",
      "Epoch 30/50\n",
      "\u001b[1m310/310\u001b[0m \u001b[32m━━━━━━━━━━━━━━━━━━━━\u001b[0m\u001b[37m\u001b[0m \u001b[1m388s\u001b[0m 1s/step - accuracy: 0.9991 - loss: 0.0033 - val_accuracy: 0.9702 - val_loss: 0.1706\n",
      "Epoch 31/50\n",
      "\u001b[1m310/310\u001b[0m \u001b[32m━━━━━━━━━━━━━━━━━━━━\u001b[0m\u001b[37m\u001b[0m \u001b[1m387s\u001b[0m 1s/step - accuracy: 0.9968 - loss: 0.0148 - val_accuracy: 0.9688 - val_loss: 0.1747\n",
      "Epoch 32/50\n",
      "\u001b[1m310/310\u001b[0m \u001b[32m━━━━━━━━━━━━━━━━━━━━\u001b[0m\u001b[37m\u001b[0m \u001b[1m385s\u001b[0m 1s/step - accuracy: 0.9992 - loss: 0.0082 - val_accuracy: 0.9631 - val_loss: 0.2313\n",
      "\u001b[1m67/67\u001b[0m \u001b[32m━━━━━━━━━━━━━━━━━━━━\u001b[0m\u001b[37m\u001b[0m \u001b[1m10s\u001b[0m 131ms/step - accuracy: 0.9648 - loss: 0.1638\n",
      "Test accuracy: 0.9660857319831848\n"
     ]
    }
   ],
   "source": [
    "# Definir los callbacks\n",
    "early_stopping = EarlyStopping(monitor='val_loss', patience=10, restore_best_weights=True)\n",
    "\n",
    "# Entrenar el modelo usando generadores de datos\n",
    "def data_generator(X, y, batch_size):\n",
    "    while True:\n",
    "        idx = np.random.randint(0, X.shape[0], batch_size)\n",
    "        yield X[idx], y[idx]\n",
    "\n",
    "batch_size = 32\n",
    "train_gen = data_generator(X_train_seq, y_train_seq, batch_size)\n",
    "val_gen = data_generator(X_val_seq, y_val_seq, batch_size)\n",
    "\n",
    "steps_per_epoch = X_train_seq.shape[0] // batch_size\n",
    "validation_steps = X_val_seq.shape[0] // batch_size\n",
    "\n",
    "# Entrenar el modelo\n",
    "history = model.fit(\n",
    "    train_gen,\n",
    "    steps_per_epoch=steps_per_epoch,\n",
    "    validation_data=val_gen,\n",
    "    validation_steps=validation_steps,\n",
    "    epochs=50,\n",
    "    callbacks=[early_stopping]\n",
    ")\n",
    "\n",
    "# Evaluar el modelo en el conjunto de prueba\n",
    "test_loss, test_accuracy = model.evaluate(X_test_seq, y_test_seq)\n",
    "print(f\"Test accuracy: {test_accuracy}\")"
   ]
  },
  {
   "cell_type": "markdown",
   "id": "a2ebc5df-a6a3-44e5-84c6-08469c8429d9",
   "metadata": {},
   "source": [
    "### Evaluar el Modelo y Guardar los Resultados"
   ]
  },
  {
   "cell_type": "code",
   "execution_count": 10,
   "id": "03494b85-c9a5-4188-9fef-270356db75af",
   "metadata": {},
   "outputs": [
    {
     "name": "stdout",
     "output_type": "stream",
     "text": [
      "\u001b[1m67/67\u001b[0m \u001b[32m━━━━━━━━━━━━━━━━━━━━\u001b[0m\u001b[37m\u001b[0m \u001b[1m5s\u001b[0m 73ms/step\n",
      "Reporte de Clasificación:\n",
      "              precision    recall  f1-score   support\n",
      "\n",
      "           0       0.96      0.97      0.96       276\n",
      "           1       0.95      0.97      0.96       327\n",
      "           2       0.98      0.96      0.97       232\n",
      "           3       0.97      0.96      0.97       309\n",
      "           4       0.99      0.93      0.96       189\n",
      "           5       0.99      0.96      0.97       246\n",
      "           6       0.97      0.92      0.95        39\n",
      "           7       0.96      0.98      0.97       195\n",
      "           8       0.94      0.99      0.97       310\n",
      "\n",
      "    accuracy                           0.97      2123\n",
      "   macro avg       0.97      0.96      0.96      2123\n",
      "weighted avg       0.97      0.97      0.97      2123\n",
      "\n"
     ]
    },
    {
     "data": {
      "image/png": "[encoded data removed]",
      "text/plain": [
       "<Figure size 1000x800 with 2 Axes>"
      ]
     },
     "metadata": {},
     "output_type": "display_data"
    },
    {
     "name": "stderr",
     "output_type": "stream",
     "text": [
      "WARNING:absl:You are saving your model as an HDF5 file via `model.save()` or `keras.saving.save_model(model)`. This file format is considered legacy. We recommend using instead the native Keras format, e.g. `model.save('my_model.keras')` or `keras.saving.save_model(model, 'my_model.keras')`. \n"
     ]
    },
    {
     "name": "stdout",
     "output_type": "stream",
     "text": [
      "Modelo guardado correctamente en formato HDF5.\n"
     ]
    },
    {
     "data": {
      "image/png": "[encoded data removed]",
      "text/plain": [
       "<Figure size 1200x400 with 2 Axes>"
      ]
     },
     "metadata": {},
     "output_type": "display_data"
    }
   ],
   "source": [
    "from sklearn.metrics import classification_report, confusion_matrix\n",
    "import matplotlib.pyplot as plt\n",
    "import seaborn as sns\n",
    "\n",
    "# Predicciones\n",
    "y_pred = model.predict(X_test_seq)\n",
    "y_pred_classes = np.argmax(y_pred, axis=1)\n",
    "\n",
    "# Reporte de clasificación\n",
    "report = classification_report(y_test_seq, y_pred_classes, target_names=np.unique(y_train).astype(str))\n",
    "print(\"Reporte de Clasificación:\")\n",
    "print(report)\n",
    "\n",
    "# Matriz de confusión\n",
    "conf_matrix = confusion_matrix(y_test_seq, y_pred_classes)\n",
    "plt.figure(figsize=(10, 8))\n",
    "sns.heatmap(conf_matrix, annot=True, fmt='d', cmap='Blues', \n",
    "            xticklabels=np.unique(y_train).astype(str), \n",
    "            yticklabels=np.unique(y_train).astype(str))\n",
    "plt.xlabel('Predicted')\n",
    "plt.ylabel('True')\n",
    "plt.title('Matriz de Confusión')\n",
    "plt.show()\n",
    "\n",
    "# Guardar el modelo entrenado en formato HDF5\n",
    "model.save('path_to_saved_model.h5')\n",
    "\n",
    "print(\"Modelo guardado correctamente en formato HDF5.\")\n",
    "\n",
    "# Graficar las métricas de entrenamiento\n",
    "plt.figure(figsize=(12, 4))\n",
    "plt.subplot(1, 2, 1)\n",
    "plt.plot(history.history['loss'], label='Training Loss')\n",
    "plt.plot(history.history['val_loss'], label='Validation Loss')\n",
    "plt.xlabel('Epochs')\n",
    "plt.ylabel('Loss')\n",
    "plt.title('Pérdida a lo largo de las épocas')\n",
    "plt.legend()\n",
    "\n",
    "plt.subplot(1, 2, 2)\n",
    "plt.plot(history.history['accuracy'], label='Training Accuracy')\n",
    "plt.plot(history.history['val_accuracy'], label='Validation Accuracy')\n",
    "plt.xlabel('Epochs')\n",
    "plt.ylabel('Accuracy')\n",
    "plt.title('Precisión a lo largo de las épocas')\n",
    "plt.legend()\n",
    "\n",
    "plt.tight_layout()\n",
    "plt.show()"
   ]
  },
  {
   "cell_type": "code",
   "execution_count": null,
   "id": "f4e9eb7b-c6c1-4e49-bb4a-de72ccc67e41",
   "metadata": {},
   "outputs": [],
   "source": []
  },
  {
   "cell_type": "code",
   "execution_count": null,
   "id": "318cb5c3-bac5-49d3-9b6d-a942ec0dfbef",
   "metadata": {},
   "outputs": [],
   "source": []
  },
  {
   "cell_type": "code",
   "execution_count": null,
   "id": "5b07818f-e3a6-4834-af4d-a9c0623ea8da",
   "metadata": {},
   "outputs": [],
   "source": []
  },
  {
   "cell_type": "code",
   "execution_count": null,
   "id": "a7597bd7-f154-4487-8790-c047c58b37d0",
   "metadata": {},
   "outputs": [],
   "source": []
  },
  {
   "cell_type": "code",
   "execution_count": null,
   "id": "61f817dd-ce0c-4a04-81c2-885c0a242562",
   "metadata": {},
   "outputs": [],
   "source": []
  },
  {
   "cell_type": "code",
   "execution_count": null,
   "id": "7aee3d31-63bf-4c7c-9988-6821104a6521",
   "metadata": {},
   "outputs": [],
   "source": []
  },
  {
   "cell_type": "code",
   "execution_count": null,
   "id": "b173fab9-d63f-4f8d-9aeb-635efb1eb2d0",
   "metadata": {},
   "outputs": [],
   "source": []
  },
  {
   "cell_type": "code",
   "execution_count": null,
   "id": "fd1437a0-a235-4c7d-b8b2-c8fc73b785bf",
   "metadata": {},
   "outputs": [],
   "source": []
  },
  {
   "cell_type": "code",
   "execution_count": null,
   "id": "dcae0bc9-12e6-4472-9d30-91b07f68d9f9",
   "metadata": {},
   "outputs": [],
   "source": []
  },
  {
   "cell_type": "code",
   "execution_count": null,
   "id": "2322ecd3-96cd-44b7-9516-acf05e63d46b",
   "metadata": {},
   "outputs": [],
   "source": []
  },
  {
   "cell_type": "code",
   "execution_count": null,
   "id": "ce2cb3be-275f-4bff-9004-061df5ec4686",
   "metadata": {},
   "outputs": [],
   "source": []
  },
  {
   "cell_type": "code",
   "execution_count": null,
   "id": "00043760-c6be-4f2a-b544-2e62971f5c38",
   "metadata": {},
   "outputs": [],
   "source": []
  },
  {
   "cell_type": "code",
   "execution_count": null,
   "id": "94dae8c9-f4ea-4817-bdf6-614294f95b1d",
   "metadata": {},
   "outputs": [],
   "source": []
  },
  {
   "cell_type": "code",
   "execution_count": null,
   "id": "00064421-cab3-41b9-be87-51972cbdbe61",
   "metadata": {},
   "outputs": [],
   "source": []
  },
  {
   "cell_type": "code",
   "execution_count": null,
   "id": "b5bb6f4a-8fa9-4750-99a7-af1657a1486c",
   "metadata": {},
   "outputs": [],
   "source": []
  },
  {
   "cell_type": "code",
   "execution_count": null,
   "id": "25879c07-5d15-46b5-80ea-caf22e2241e9",
   "metadata": {},
   "outputs": [],
   "source": []
  },
  {
   "cell_type": "code",
   "execution_count": null,
   "id": "3fb7b849-ba81-4252-a36b-f6ab40d354d2",
   "metadata": {},
   "outputs": [],
   "source": []
  },
  {
   "cell_type": "code",
   "execution_count": null,
   "id": "e53b3851-ebf0-4fbb-84ba-7c66fc32f35a",
   "metadata": {},
   "outputs": [],
   "source": []
  },
  {
   "cell_type": "code",
   "execution_count": null,
   "id": "13f40da3-965b-44fa-8bbe-33db5df2ea38",
   "metadata": {},
   "outputs": [],
   "source": []
  },
  {
   "cell_type": "code",
   "execution_count": null,
   "id": "02b9d337-4cc6-4358-825f-c4cfc97e4f12",
   "metadata": {},
   "outputs": [],
   "source": []
  },
  {
   "cell_type": "code",
   "execution_count": null,
   "id": "5301fc05-9308-46b7-a4d0-7a9821d605d9",
   "metadata": {},
   "outputs": [],
   "source": []
  },
  {
   "cell_type": "code",
   "execution_count": null,
   "id": "e07d4ac3-8f1a-4779-84be-e1b8de242d59",
   "metadata": {},
   "outputs": [],
   "source": []
  },
  {
   "cell_type": "code",
   "execution_count": null,
   "id": "7bb7289d-7ee2-4e84-ad87-5634945d93e7",
   "metadata": {},
   "outputs": [],
   "source": []
  },
  {
   "cell_type": "code",
   "execution_count": null,
   "id": "104e5842-e1ec-4e80-8658-4e34e59ecf6b",
   "metadata": {},
   "outputs": [],
   "source": []
  },
  {
   "cell_type": "code",
   "execution_count": null,
   "id": "2e065374-ea15-4fcc-8021-0838ce4e7ab7",
   "metadata": {},
   "outputs": [],
   "source": []
  },
  {
   "cell_type": "code",
   "execution_count": null,
   "id": "74525ab2-e58d-41e8-82e1-1dfeacd3c26f",
   "metadata": {},
   "outputs": [],
   "source": []
  },
  {
   "cell_type": "code",
   "execution_count": null,
   "id": "73f1f101-e033-4a2a-ad6d-1ffbc6efa116",
   "metadata": {},
   "outputs": [],
   "source": []
  },
  {
   "cell_type": "code",
   "execution_count": 4,
   "id": "f73ff383-0259-4473-ac96-a97a317aa63d",
   "metadata": {},
   "outputs": [],
   "source": [
    "import os\n",
    "import pandas as pd\n",
    "import cv2\n",
    "import numpy as np\n",
    "from sklearn.model_selection import train_test_split\n",
    "import tensorflow as tf\n"
   ]
  },
  {
   "cell_type": "code",
   "execution_count": 5,
   "id": "0d661775-e17c-4221-8b5d-0ff5b854963c",
   "metadata": {
    "scrolled": true
   },
   "outputs": [
    {
     "name": "stdout",
     "output_type": "stream",
     "text": [
      "Preprocesamiento completado y datos guardados.\n"
     ]
    }
   ],
   "source": [
    "# Configuración\n",
    "image_size = (224, 224)  # Tamaño al que redimensionar las imágenes\n",
    "csv_path = r\"C:\\Users\\Usuario\\Desktop\\mi_proyecto\\archivos_carpetas.csv\"\n",
    "image_dir = r\"C:\\Users\\Usuario\\Desktop\\mi_proyecto\\imagenes\"\n",
    "output_dir = r\"C:\\Users\\Usuario\\Desktop\\mi_proyecto\\imagenes_procesadas\"\n",
    "\n",
    "# Leer el archivo CSV\n",
    "df = pd.read_csv(csv_path)\n",
    "\n",
    "# Función para cargar y preprocesar imágenes\n",
    "def load_and_preprocess_image(filepath):\n",
    "    if not os.path.exists(filepath):\n",
    "        print(f\"Archivo no encontrado: {filepath}\")\n",
    "        return None\n",
    "    image = cv2.imread(filepath)\n",
    "    if image is None:\n",
    "        print(f\"Error al cargar la imagen: {filepath}\")\n",
    "        return None\n",
    "    image = cv2.resize(image, image_size)\n",
    "    image = cv2.cvtColor(image, cv2.COLOR_BGR2RGB)\n",
    "    image = image / 255.0  # Normalizar la imagen\n",
    "    return image\n",
    "\n",
    "# Cargar y preprocesar las imágenes\n",
    "images = []\n",
    "labels = []\n",
    "\n",
    "for index, row in df.iterrows():\n",
    "    filepath = os.path.join(image_dir, row['nombre_archivo'])\n",
    "    image = load_and_preprocess_image(filepath)\n",
    "    if image is not None:\n",
    "        images.append(image)\n",
    "        labels.append(row['etiqueta'])\n",
    "\n",
    "# Convertir a arrays de numpy\n",
    "images = np.array(images)\n",
    "labels = np.array(labels)\n",
    "\n",
    "# Convertir etiquetas a números\n",
    "label_mapping = {label: idx for idx, label in enumerate(np.unique(labels))}\n",
    "labels = np.array([label_mapping[label] for label in labels])\n",
    "\n",
    "# Dividir el dataset en entrenamiento, validación y prueba\n",
    "X_train, X_temp, y_train, y_temp = train_test_split(images, labels, test_size=0.3, random_state=42)\n",
    "X_val, X_test, y_val, y_test = train_test_split(X_temp, y_temp, test_size=0.5, random_state=42)\n",
    "\n",
    "# Guardar los conjuntos de datos\n",
    "if not os.path.exists(output_dir):\n",
    "    os.makedirs(output_dir)\n",
    "\n",
    "np.save(os.path.join(output_dir, 'X_train.npy'), X_train)\n",
    "np.save(os.path.join(output_dir, 'y_train.npy'), y_train)\n",
    "np.save(os.path.join(output_dir, 'X_val.npy'), X_val)\n",
    "np.save(os.path.join(output_dir, 'y_val.npy'), y_val)\n",
    "np.save(os.path.join(output_dir, 'X_test.npy'), X_test)\n",
    "np.save(os.path.join(output_dir, 'y_test.npy'), y_test)\n",
    "\n",
    "print(\"Preprocesamiento completado y datos guardados.\")"
   ]
  },
  {
   "cell_type": "code",
   "execution_count": null,
   "id": "e0f70724-d67a-4ef1-846d-73ec5fb29026",
   "metadata": {},
   "outputs": [],
   "source": []
  },
  {
   "cell_type": "code",
   "execution_count": null,
   "id": "bf4a24d1-265c-4161-a994-7c1971e5100d",
   "metadata": {},
   "outputs": [],
   "source": []
  },
  {
   "cell_type": "code",
   "execution_count": null,
   "id": "eaef072d-1227-421c-a8f6-2c31f7e9c9e1",
   "metadata": {},
   "outputs": [],
   "source": []
  },
  {
   "cell_type": "code",
   "execution_count": null,
   "id": "0456a4db-033d-47ed-8720-56ffde67f457",
   "metadata": {},
   "outputs": [],
   "source": []
  },
  {
   "cell_type": "code",
   "execution_count": null,
   "id": "5b4ceeb5-3136-4e76-a4bc-433ab9a6bae4",
   "metadata": {},
   "outputs": [],
   "source": []
  },
  {
   "cell_type": "code",
   "execution_count": null,
   "id": "f493ae7b-098e-4b25-9137-84da85df01eb",
   "metadata": {},
   "outputs": [],
   "source": []
  },
  {
   "cell_type": "code",
   "execution_count": null,
   "id": "ebfd2fca-2af9-4ea3-8322-f0ff0467e60b",
   "metadata": {},
   "outputs": [],
   "source": []
  },
  {
   "cell_type": "code",
   "execution_count": null,
   "id": "56ce4886-1105-4ca3-ba22-c194aec64601",
   "metadata": {},
   "outputs": [],
   "source": []
  },
  {
   "cell_type": "code",
   "execution_count": null,
   "id": "665dfe97-6547-4be8-be9f-3d6edfab7be9",
   "metadata": {},
   "outputs": [],
   "source": []
  },
  {
   "cell_type": "code",
   "execution_count": null,
   "id": "5452d3e4-d329-4c59-8cf1-53f12e03eec8",
   "metadata": {},
   "outputs": [],
   "source": []
  },
  {
   "cell_type": "code",
   "execution_count": null,
   "id": "26ec8921-162e-41a1-a805-279a87865188",
   "metadata": {},
   "outputs": [],
   "source": []
  },
  {
   "cell_type": "code",
   "execution_count": null,
   "id": "3d592b1d-e203-4cdb-8fa7-28ebcf971464",
   "metadata": {},
   "outputs": [],
   "source": []
  },
  {
   "cell_type": "code",
   "execution_count": 9,
   "id": "09387ff3-7a70-48d1-937e-f1f30beda802",
   "metadata": {},
   "outputs": [
    {
     "name": "stdout",
     "output_type": "stream",
     "text": [
      "X_train shape: (9947, 128, 128, 3)\n",
      "y_train shape: (9947,)\n",
      "X_val shape: (2132, 128, 128, 3)\n",
      "y_val shape: (2132,)\n",
      "X_test shape: (2132, 128, 128, 3)\n",
      "y_test shape: (2132,)\n",
      "Epoch 1/50\n"
     ]
    },
    {
     "name": "stderr",
     "output_type": "stream",
     "text": [
      "C:\\Users\\Usuario\\AppData\\Roaming\\Python\\Python311\\site-packages\\keras\\src\\trainers\\data_adapters\\py_dataset_adapter.py:121: UserWarning: Your `PyDataset` class should call `super().__init__(**kwargs)` in its constructor. `**kwargs` can include `workers`, `use_multiprocessing`, `max_queue_size`. Do not pass these arguments to `fit()`, as they will be ignored.\n",
      "  self._warn_if_super_not_called()\n"
     ]
    },
    {
     "name": "stdout",
     "output_type": "stream",
     "text": [
      "\u001b[1m311/311\u001b[0m \u001b[32m━━━━━━━━━━━━━━━━━━━━\u001b[0m\u001b[37m\u001b[0m \u001b[1m1681s\u001b[0m 5s/step - accuracy: 0.2286 - loss: 1.9955 - val_accuracy: 0.5765 - val_loss: 1.2398\n",
      "Epoch 2/50\n",
      "\u001b[1m311/311\u001b[0m \u001b[32m━━━━━━━━━━━━━━━━━━━━\u001b[0m\u001b[37m\u001b[0m \u001b[1m1705s\u001b[0m 5s/step - accuracy: 0.7140 - loss: 0.8838 - val_accuracy: 0.8761 - val_loss: 0.4082\n",
      "Epoch 3/50\n",
      "\u001b[1m311/311\u001b[0m \u001b[32m━━━━━━━━━━━━━━━━━━━━\u001b[0m\u001b[37m\u001b[0m \u001b[1m1695s\u001b[0m 5s/step - accuracy: 0.9368 - loss: 0.2307 - val_accuracy: 0.9501 - val_loss: 0.1737\n",
      "Epoch 4/50\n",
      "\u001b[1m311/311\u001b[0m \u001b[32m━━━━━━━━━━━━━━━━━━━━\u001b[0m\u001b[37m\u001b[0m \u001b[1m1724s\u001b[0m 6s/step - accuracy: 0.9820 - loss: 0.0728 - val_accuracy: 0.9713 - val_loss: 0.1044\n",
      "Epoch 5/50\n",
      "\u001b[1m311/311\u001b[0m \u001b[32m━━━━━━━━━━━━━━━━━━━━\u001b[0m\u001b[37m\u001b[0m \u001b[1m1710s\u001b[0m 5s/step - accuracy: 0.9897 - loss: 0.0401 - val_accuracy: 0.9661 - val_loss: 0.1228\n",
      "Epoch 6/50\n",
      "\u001b[1m311/311\u001b[0m \u001b[32m━━━━━━━━━━━━━━━━━━━━\u001b[0m\u001b[37m\u001b[0m \u001b[1m1769s\u001b[0m 6s/step - accuracy: 0.9907 - loss: 0.0290 - val_accuracy: 0.9741 - val_loss: 0.1051\n",
      "Epoch 7/50\n",
      "\u001b[1m311/311\u001b[0m \u001b[32m━━━━━━━━━━━━━━━━━━━━\u001b[0m\u001b[37m\u001b[0m \u001b[1m1687s\u001b[0m 5s/step - accuracy: 0.9934 - loss: 0.0262 - val_accuracy: 0.9675 - val_loss: 0.1281\n",
      "Epoch 8/50\n",
      "\u001b[1m311/311\u001b[0m \u001b[32m━━━━━━━━━━━━━━━━━━━━\u001b[0m\u001b[37m\u001b[0m \u001b[1m1689s\u001b[0m 5s/step - accuracy: 0.9947 - loss: 0.0214 - val_accuracy: 0.9548 - val_loss: 0.1681\n",
      "Epoch 9/50\n",
      "\u001b[1m311/311\u001b[0m \u001b[32m━━━━━━━━━━━━━━━━━━━━\u001b[0m\u001b[37m\u001b[0m \u001b[1m1714s\u001b[0m 6s/step - accuracy: 0.9861 - loss: 0.0436 - val_accuracy: 0.9642 - val_loss: 0.1479\n",
      "Epoch 10/50\n",
      "\u001b[1m311/311\u001b[0m \u001b[32m━━━━━━━━━━━━━━━━━━━━\u001b[0m\u001b[37m\u001b[0m \u001b[1m1692s\u001b[0m 5s/step - accuracy: 0.9840 - loss: 0.0480 - val_accuracy: 0.9501 - val_loss: 0.1837\n",
      "Epoch 11/50\n",
      "\u001b[1m311/311\u001b[0m \u001b[32m━━━━━━━━━━━━━━━━━━━━\u001b[0m\u001b[37m\u001b[0m \u001b[1m1696s\u001b[0m 5s/step - accuracy: 0.9912 - loss: 0.0317 - val_accuracy: 0.9609 - val_loss: 0.1535\n",
      "Epoch 12/50\n",
      "\u001b[1m311/311\u001b[0m \u001b[32m━━━━━━━━━━━━━━━━━━━━\u001b[0m\u001b[37m\u001b[0m \u001b[1m1668s\u001b[0m 5s/step - accuracy: 0.9951 - loss: 0.0187 - val_accuracy: 0.9628 - val_loss: 0.1199\n",
      "Epoch 13/50\n",
      "\u001b[1m311/311\u001b[0m \u001b[32m━━━━━━━━━━━━━━━━━━━━\u001b[0m\u001b[37m\u001b[0m \u001b[1m1657s\u001b[0m 5s/step - accuracy: 0.9944 - loss: 0.0164 - val_accuracy: 0.9656 - val_loss: 0.1293\n",
      "Epoch 14/50\n",
      "\u001b[1m311/311\u001b[0m \u001b[32m━━━━━━━━━━━━━━━━━━━━\u001b[0m\u001b[37m\u001b[0m \u001b[1m1674s\u001b[0m 5s/step - accuracy: 0.9963 - loss: 0.0114 - val_accuracy: 0.9689 - val_loss: 0.1231\n",
      "\u001b[1m67/67\u001b[0m \u001b[32m━━━━━━━━━━━━━━━━━━━━\u001b[0m\u001b[37m\u001b[0m \u001b[1m40s\u001b[0m 597ms/step - accuracy: 0.9490 - loss: 0.1674\n",
      "Test accuracy: 0.9566650986671448\n",
      "\u001b[1m67/67\u001b[0m \u001b[32m━━━━━━━━━━━━━━━━━━━━\u001b[0m\u001b[37m\u001b[0m \u001b[1m25s\u001b[0m 364ms/step\n",
      "              precision    recall  f1-score   support\n",
      "\n",
      "           0       0.12      0.12      0.12       276\n",
      "           1       0.13      0.13      0.13       327\n",
      "           2       0.10      0.10      0.10       232\n",
      "           3       0.15      0.15      0.15       309\n",
      "           4       0.10      0.10      0.10       189\n",
      "           5       0.10      0.10      0.10       246\n",
      "           6       0.00      0.00      0.00        39\n",
      "           7       0.09      0.08      0.08       195\n",
      "           8       0.12      0.12      0.12       310\n",
      "\n",
      "    accuracy                           0.11      2123\n",
      "   macro avg       0.10      0.10      0.10      2123\n",
      "weighted avg       0.11      0.11      0.11      2123\n",
      "\n"
     ]
    },
    {
     "data": {
      "image/png": "[encoded data removed]",
      "text/plain": [
       "<Figure size 1000x800 with 2 Axes>"
      ]
     },
     "metadata": {},
     "output_type": "display_data"
    },
    {
     "name": "stderr",
     "output_type": "stream",
     "text": [
      "WARNING:absl:You are saving your model as an HDF5 file via `model.save()` or `keras.saving.save_model(model)`. This file format is considered legacy. We recommend using instead the native Keras format, e.g. `model.save('my_model.keras')` or `keras.saving.save_model(model, 'my_model.keras')`. \n"
     ]
    },
    {
     "name": "stdout",
     "output_type": "stream",
     "text": [
      "Entrenamiento completado y modelo guardado.\n"
     ]
    },
    {
     "data": {
      "image/png": "[encoded data removed]",
      "text/plain": [
       "<Figure size 1200x400 with 2 Axes>"
      ]
     },
     "metadata": {},
     "output_type": "display_data"
    }
   ],
   "source": [
    "import numpy as np\n",
    "import os\n",
    "import cv2\n",
    "from tensorflow.keras.models import Sequential\n",
    "from tensorflow.keras.layers import Conv2D, MaxPooling2D, Flatten, Dense, Dropout, LSTM, TimeDistributed, Reshape, Input\n",
    "from tensorflow.keras.optimizers import Adam\n",
    "from tensorflow.keras.callbacks import EarlyStopping\n",
    "from sklearn.metrics import classification_report, confusion_matrix\n",
    "import matplotlib.pyplot as plt\n",
    "import seaborn as sns\n",
    "from tensorflow.keras.utils import Sequence\n",
    "\n",
    "# Función para cargar datos\n",
    "def load_data(output_dir, file_name):\n",
    "    file_path = os.path.join(output_dir, file_name)\n",
    "    data = np.load(file_path)\n",
    "    return data\n",
    "\n",
    "# Redimensionar imágenes\n",
    "def resize_images(data, new_size):\n",
    "    resized_data = np.zeros((data.shape[0], new_size, new_size, data.shape[3]), dtype=np.float32)\n",
    "    for i in range(data.shape[0]):\n",
    "        resized_data[i] = cv2.resize(data[i], (new_size, new_size))\n",
    "    return resized_data\n",
    "\n",
    "# Directorio donde se encuentran los datos preprocesados\n",
    "output_dir = r\"C:\\Users\\Usuario\\Desktop\\mi_proyecto\\imagenes_procesadas\"\n",
    "\n",
    "# Cargar los conjuntos de datos preprocesados\n",
    "X_train = load_data(output_dir, 'X_train.npy')\n",
    "y_train = load_data(output_dir, 'y_train.npy')\n",
    "X_val = load_data(output_dir, 'X_val.npy')\n",
    "y_val = load_data(output_dir, 'y_val.npy')\n",
    "X_test = load_data(output_dir, 'X_test.npy')\n",
    "y_test = load_data(output_dir, 'y_test.npy')\n",
    "\n",
    "# Redimensionar imágenes a 128x128\n",
    "new_size = 128\n",
    "X_train = resize_images(X_train, new_size)\n",
    "X_val = resize_images(X_val, new_size)\n",
    "X_test = resize_images(X_test, new_size)\n",
    "\n",
    "# Verificar dimensiones de datos cargados\n",
    "print(f\"X_train shape: {X_train.shape}\")\n",
    "print(f\"y_train shape: {y_train.shape}\")\n",
    "print(f\"X_val shape: {X_val.shape}\")\n",
    "print(f\"y_val shape: {y_val.shape}\")\n",
    "print(f\"X_test shape: {X_test.shape}\")\n",
    "print(f\"y_test shape: {y_test.shape}\")\n",
    "\n",
    "# Crear secuencias de datos\n",
    "def create_sequences(data, labels, seq_length):\n",
    "    sequences = []\n",
    "    sequence_labels = []\n",
    "    for i in range(len(data) - seq_length + 1):\n",
    "        sequences.append(data[i:i + seq_length])\n",
    "        sequence_labels.append(labels[i + seq_length - 1])\n",
    "    return np.array(sequences, dtype=np.float32), np.array(sequence_labels, dtype=np.float32)\n",
    "\n",
    "# Generador de datos\n",
    "class DataGenerator(Sequence):\n",
    "    def __init__(self, data, labels, seq_length, batch_size):\n",
    "        self.data = data\n",
    "        self.labels = labels\n",
    "        self.seq_length = seq_length\n",
    "        self.batch_size = batch_size\n",
    "        self.indices = np.arange(len(data) - seq_length + 1)\n",
    "        \n",
    "    def __len__(self):\n",
    "        return int(np.ceil(len(self.indices) / self.batch_size))\n",
    "    \n",
    "    def __getitem__(self, index):\n",
    "        batch_indices = self.indices[index * self.batch_size:(index + 1) * self.batch_size]\n",
    "        batch_sequences = [self.data[i:i + self.seq_length] for i in batch_indices]\n",
    "        batch_labels = [self.labels[i + self.seq_length - 1] for i in batch_indices]\n",
    "        return np.array(batch_sequences), np.array(batch_labels)\n",
    "    \n",
    "    def on_epoch_end(self):\n",
    "        np.random.shuffle(self.indices)\n",
    "\n",
    "# Definir longitud de la secuencia y tamaño del lote\n",
    "seq_length = 10\n",
    "batch_size = 32\n",
    "\n",
    "# Crear generadores de datos\n",
    "train_generator = DataGenerator(X_train, y_train, seq_length, batch_size)\n",
    "val_generator = DataGenerator(X_val, y_val, seq_length, batch_size)\n",
    "test_generator = DataGenerator(X_test, y_test, seq_length, batch_size)\n",
    "\n",
    "# Definir la arquitectura del modelo CNN + LSTM\n",
    "model = Sequential([\n",
    "    TimeDistributed(Conv2D(32, (3, 3), activation='relu'), input_shape=(seq_length, new_size, new_size, 3)),\n",
    "    TimeDistributed(MaxPooling2D((2, 2))),\n",
    "    TimeDistributed(Conv2D(64, (3, 3), activation='relu')),\n",
    "    TimeDistributed(MaxPooling2D((2, 2))),\n",
    "    TimeDistributed(Conv2D(128, (3, 3), activation='relu')),\n",
    "    TimeDistributed(MaxPooling2D((2, 2))),\n",
    "    TimeDistributed(Flatten()),\n",
    "    LSTM(64),\n",
    "    Dense(512, activation='relu'),\n",
    "    Dropout(0.5),\n",
    "    Dense(len(np.unique(y_train)), activation='softmax')\n",
    "])\n",
    "\n",
    "# Compilar el modelo\n",
    "model.compile(optimizer=Adam(), loss='sparse_categorical_crossentropy', metrics=['accuracy'])\n",
    "\n",
    "# Definir los callbacks\n",
    "early_stopping = EarlyStopping(monitor='val_loss', patience=10, restore_best_weights=True)\n",
    "\n",
    "# Entrenar el modelo usando generadores\n",
    "history = model.fit(\n",
    "    train_generator,\n",
    "    validation_data=val_generator,\n",
    "    epochs=50,\n",
    "    callbacks=[early_stopping]\n",
    ")\n",
    "\n",
    "# Evaluar el modelo en el conjunto de prueba\n",
    "test_loss, test_accuracy = model.evaluate(test_generator)\n",
    "print(f\"Test accuracy: {test_accuracy}\")\n",
    "\n",
    "# Predicciones\n",
    "y_pred = model.predict(test_generator)\n",
    "y_pred_classes = np.argmax(y_pred, axis=1)\n",
    "\n",
    "# Reporte de clasificación\n",
    "report = classification_report(y_test_seq, y_pred_classes, target_names=np.unique(y_train).astype(str))\n",
    "print(report)\n",
    "\n",
    "# Matriz de confusión\n",
    "conf_matrix = confusion_matrix(y_test_seq, y_pred_classes)\n",
    "plt.figure(figsize=(10, 8))\n",
    "sns.heatmap(conf_matrix, annot=True, fmt='d', cmap='Blues', xticklabels=np.unique(y_train).astype(str), yticklabels=np.unique(y_train).astype(str))\n",
    "plt.xlabel('Predicted')\n",
    "plt.ylabel('True')\n",
    "plt.title('Confusion Matrix')\n",
    "plt.show()\n",
    "\n",
    "# Guardar el modelo entrenado\n",
    "model.save(os.path.join(output_dir, 'modelo_boxeo_cnn_lstm.h5'))\n",
    "\n",
    "print(\"Entrenamiento completado y modelo guardado.\")\n",
    "\n",
    "# Graficar las métricas de entrenamiento\n",
    "plt.figure(figsize=(12, 4))\n",
    "plt.subplot(1, 2, 1)\n",
    "plt.plot(history.history['loss'], label='Training Loss')\n",
    "plt.plot(history.history['val_loss'], label='Validation Loss')\n",
    "plt.xlabel('Epochs')\n",
    "plt.ylabel('Loss')\n",
    "plt.title('Loss over epochs')\n",
    "plt.legend()\n",
    "\n",
    "plt.subplot(1, 2, 2)\n",
    "plt.plot(history.history['accuracy'], label='Training Accuracy')\n",
    "plt.plot(history.history['val_accuracy'], label='Validation Accuracy')\n",
    "plt.xlabel('Epochs')\n",
    "plt.ylabel('Accuracy')\n",
    "plt.title('Accuracy over epochs')\n",
    "plt.legend()\n",
    "\n",
    "plt.show()\n"
   ]
  },
  {
   "cell_type": "code",
   "execution_count": null,
   "id": "08ec2119-d285-45b4-b323-c60d50c9de3e",
   "metadata": {},
   "outputs": [],
   "source": []
  },
  {
   "cell_type": "code",
   "execution_count": null,
   "id": "e640cda1-7beb-489e-968c-753f6689df0d",
   "metadata": {},
   "outputs": [],
   "source": []
  },
  {
   "cell_type": "code",
   "execution_count": null,
   "id": "26720d4d-6526-4238-b361-3f5f58672cc5",
   "metadata": {},
   "outputs": [],
   "source": []
  },
  {
   "cell_type": "code",
   "execution_count": null,
   "id": "901f4aee-e7a4-4152-b261-1358ee8fe582",
   "metadata": {},
   "outputs": [],
   "source": []
  },
  {
   "cell_type": "code",
   "execution_count": null,
   "id": "b548a99f-b03b-4fca-a51a-d49f667f88e7",
   "metadata": {},
   "outputs": [],
   "source": []
  },
  {
   "cell_type": "code",
   "execution_count": null,
   "id": "2568370e-f2df-43c3-8169-8e77e5fe0213",
   "metadata": {},
   "outputs": [],
   "source": []
  },
  {
   "cell_type": "code",
   "execution_count": null,
   "id": "94e247f9-cc14-4227-b377-ec3cb1bd89e1",
   "metadata": {},
   "outputs": [],
   "source": []
  },
  {
   "cell_type": "code",
   "execution_count": null,
   "id": "badafb3e-4c84-4d33-9105-9c594f44b5e7",
   "metadata": {},
   "outputs": [],
   "source": []
  },
  {
   "cell_type": "code",
   "execution_count": null,
   "id": "1df713f9-0aa4-48c8-b01f-71d3554312c4",
   "metadata": {},
   "outputs": [],
   "source": []
  },
  {
   "cell_type": "code",
   "execution_count": null,
   "id": "f48cdaa0-43bc-4751-836c-945bd13a01b2",
   "metadata": {},
   "outputs": [],
   "source": []
  },
  {
   "cell_type": "code",
   "execution_count": null,
   "id": "863af614-814c-4ff4-89a6-ed2e72b113b1",
   "metadata": {},
   "outputs": [],
   "source": []
  },
  {
   "cell_type": "code",
   "execution_count": null,
   "id": "5df0eda6-263b-4745-ac06-498093a4aad5",
   "metadata": {},
   "outputs": [],
   "source": []
  },
  {
   "cell_type": "code",
   "execution_count": null,
   "id": "5e097f1e-0c65-4be7-a553-b7dae2df6371",
   "metadata": {},
   "outputs": [],
   "source": []
  },
  {
   "cell_type": "code",
   "execution_count": null,
   "id": "a4d64e5a-c3a5-47b1-9758-5330ea4b406d",
   "metadata": {},
   "outputs": [],
   "source": []
  },
  {
   "cell_type": "code",
   "execution_count": null,
   "id": "d7a9ebba-ce54-429b-ac55-7320dc716a28",
   "metadata": {},
   "outputs": [],
   "source": []
  },
  {
   "cell_type": "code",
   "execution_count": null,
   "id": "2428c969-ac05-4dfd-b3a8-d6ddc64a94f1",
   "metadata": {},
   "outputs": [],
   "source": []
  },
  {
   "cell_type": "code",
   "execution_count": null,
   "id": "c7bea59e-c495-4658-873d-e834126f05aa",
   "metadata": {},
   "outputs": [],
   "source": []
  },
  {
   "cell_type": "code",
   "execution_count": null,
   "id": "0f2d6d0e-08b2-47fd-b61d-3583be633a15",
   "metadata": {},
   "outputs": [],
   "source": []
  },
  {
   "cell_type": "code",
   "execution_count": 6,
   "id": "f5d46149-47ff-4b3b-9daf-78e1324f249f",
   "metadata": {},
   "outputs": [],
   "source": [
    "import tensorflow as tf\n",
    "\n",
    "# Verificar si hay una GPU disponible y configurarla\n",
    "gpus = tf.config.experimental.list_physical_devices('GPU')\n",
    "if gpus:\n",
    "    try:\n",
    "        for gpu in gpus:\n",
    "            tf.config.experimental.set_memory_growth(gpu, True)\n",
    "        print(\"GPU is available and configured.\")\n",
    "    except RuntimeError as e:\n",
    "        print(e)"
   ]
  },
  {
   "cell_type": "code",
   "execution_count": 8,
   "id": "4ab84897-30c8-4185-a081-675b9cf90e65",
   "metadata": {},
   "outputs": [
    {
     "name": "stdout",
     "output_type": "stream",
     "text": [
      "X_train shape: (9947, 224, 224, 3)\n",
      "y_train shape: (9947,)\n",
      "X_val shape: (2132, 224, 224, 3)\n",
      "y_val shape: (2132,)\n",
      "X_test shape: (2132, 224, 224, 3)\n",
      "y_test shape: (2132,)\n"
     ]
    },
    {
     "name": "stderr",
     "output_type": "stream",
     "text": [
      "C:\\Users\\Usuario\\AppData\\Roaming\\Python\\Python311\\site-packages\\keras\\src\\layers\\convolutional\\base_conv.py:107: UserWarning: Do not pass an `input_shape`/`input_dim` argument to a layer. When using Sequential models, prefer using an `Input(shape)` object as the first layer in the model instead.\n",
      "  super().__init__(activity_regularizer=activity_regularizer, **kwargs)\n"
     ]
    },
    {
     "name": "stdout",
     "output_type": "stream",
     "text": [
      "Epoch 1/50\n",
      "\u001b[1m311/311\u001b[0m \u001b[32m━━━━━━━━━━━━━━━━━━━━\u001b[0m\u001b[37m\u001b[0m \u001b[1m223s\u001b[0m 706ms/step - accuracy: 0.2917 - loss: 1.8940 - val_accuracy: 0.7195 - val_loss: 0.8929\n",
      "Epoch 2/50\n",
      "\u001b[1m311/311\u001b[0m \u001b[32m━━━━━━━━━━━━━━━━━━━━\u001b[0m\u001b[37m\u001b[0m \u001b[1m213s\u001b[0m 686ms/step - accuracy: 0.8177 - loss: 0.5891 - val_accuracy: 0.9006 - val_loss: 0.3098\n",
      "Epoch 3/50\n",
      "\u001b[1m311/311\u001b[0m \u001b[32m━━━━━━━━━━━━━━━━━━━━\u001b[0m\u001b[37m\u001b[0m \u001b[1m202s\u001b[0m 649ms/step - accuracy: 0.9484 - loss: 0.1736 - val_accuracy: 0.9508 - val_loss: 0.1787\n",
      "Epoch 4/50\n",
      "\u001b[1m311/311\u001b[0m \u001b[32m━━━━━━━━━━━━━━━━━━━━\u001b[0m\u001b[37m\u001b[0m \u001b[1m201s\u001b[0m 646ms/step - accuracy: 0.9780 - loss: 0.0691 - val_accuracy: 0.9644 - val_loss: 0.1414\n",
      "Epoch 5/50\n",
      "\u001b[1m311/311\u001b[0m \u001b[32m━━━━━━━━━━━━━━━━━━━━\u001b[0m\u001b[37m\u001b[0m \u001b[1m202s\u001b[0m 648ms/step - accuracy: 0.9887 - loss: 0.0421 - val_accuracy: 0.9705 - val_loss: 0.1178\n",
      "Epoch 6/50\n",
      "\u001b[1m311/311\u001b[0m \u001b[32m━━━━━━━━━━━━━━━━━━━━\u001b[0m\u001b[37m\u001b[0m \u001b[1m208s\u001b[0m 670ms/step - accuracy: 0.9892 - loss: 0.0369 - val_accuracy: 0.9737 - val_loss: 0.0997\n",
      "Epoch 7/50\n",
      "\u001b[1m311/311\u001b[0m \u001b[32m━━━━━━━━━━━━━━━━━━━━\u001b[0m\u001b[37m\u001b[0m \u001b[1m201s\u001b[0m 645ms/step - accuracy: 0.9914 - loss: 0.0245 - val_accuracy: 0.9751 - val_loss: 0.0875\n",
      "Epoch 8/50\n",
      "\u001b[1m311/311\u001b[0m \u001b[32m━━━━━━━━━━━━━━━━━━━━\u001b[0m\u001b[37m\u001b[0m \u001b[1m212s\u001b[0m 682ms/step - accuracy: 0.9925 - loss: 0.0251 - val_accuracy: 0.9672 - val_loss: 0.1293\n",
      "Epoch 9/50\n",
      "\u001b[1m311/311\u001b[0m \u001b[32m━━━━━━━━━━━━━━━━━━━━\u001b[0m\u001b[37m\u001b[0m \u001b[1m215s\u001b[0m 693ms/step - accuracy: 0.9898 - loss: 0.0319 - val_accuracy: 0.9676 - val_loss: 0.1142\n",
      "Epoch 10/50\n",
      "\u001b[1m311/311\u001b[0m \u001b[32m━━━━━━━━━━━━━━━━━━━━\u001b[0m\u001b[37m\u001b[0m \u001b[1m218s\u001b[0m 701ms/step - accuracy: 0.9914 - loss: 0.0270 - val_accuracy: 0.9775 - val_loss: 0.0972\n",
      "Epoch 11/50\n",
      "\u001b[1m311/311\u001b[0m \u001b[32m━━━━━━━━━━━━━━━━━━━━\u001b[0m\u001b[37m\u001b[0m \u001b[1m226s\u001b[0m 725ms/step - accuracy: 0.9930 - loss: 0.0224 - val_accuracy: 0.9709 - val_loss: 0.1131\n",
      "Epoch 12/50\n",
      "\u001b[1m311/311\u001b[0m \u001b[32m━━━━━━━━━━━━━━━━━━━━\u001b[0m\u001b[37m\u001b[0m \u001b[1m226s\u001b[0m 727ms/step - accuracy: 0.9939 - loss: 0.0209 - val_accuracy: 0.9634 - val_loss: 0.1441\n",
      "Epoch 13/50\n",
      "\u001b[1m311/311\u001b[0m \u001b[32m━━━━━━━━━━━━━━━━━━━━\u001b[0m\u001b[37m\u001b[0m \u001b[1m225s\u001b[0m 722ms/step - accuracy: 0.9904 - loss: 0.0352 - val_accuracy: 0.9733 - val_loss: 0.1098\n",
      "Epoch 14/50\n",
      "\u001b[1m311/311\u001b[0m \u001b[32m━━━━━━━━━━━━━━━━━━━━\u001b[0m\u001b[37m\u001b[0m \u001b[1m203s\u001b[0m 654ms/step - accuracy: 0.9935 - loss: 0.0177 - val_accuracy: 0.9690 - val_loss: 0.1413\n",
      "Epoch 15/50\n",
      "\u001b[1m311/311\u001b[0m \u001b[32m━━━━━━━━━━━━━━━━━━━━\u001b[0m\u001b[37m\u001b[0m \u001b[1m201s\u001b[0m 646ms/step - accuracy: 0.9932 - loss: 0.0194 - val_accuracy: 0.9733 - val_loss: 0.1223\n",
      "Epoch 16/50\n",
      "\u001b[1m311/311\u001b[0m \u001b[32m━━━━━━━━━━━━━━━━━━━━\u001b[0m\u001b[37m\u001b[0m \u001b[1m200s\u001b[0m 643ms/step - accuracy: 0.9940 - loss: 0.0144 - val_accuracy: 0.9737 - val_loss: 0.1080\n",
      "Epoch 17/50\n",
      "\u001b[1m311/311\u001b[0m \u001b[32m━━━━━━━━━━━━━━━━━━━━\u001b[0m\u001b[37m\u001b[0m \u001b[1m200s\u001b[0m 643ms/step - accuracy: 0.9953 - loss: 0.0123 - val_accuracy: 0.9756 - val_loss: 0.1126\n",
      "\u001b[1m67/67\u001b[0m \u001b[32m━━━━━━━━━━━━━━━━━━━━\u001b[0m\u001b[37m\u001b[0m \u001b[1m10s\u001b[0m 141ms/step - accuracy: 0.9674 - loss: 0.1301\n",
      "Test accuracy: 0.9699812531471252\n",
      "\u001b[1m67/67\u001b[0m \u001b[32m━━━━━━━━━━━━━━━━━━━━\u001b[0m\u001b[37m\u001b[0m \u001b[1m10s\u001b[0m 139ms/step\n",
      "              precision    recall  f1-score   support\n",
      "\n",
      "           0       0.98      0.98      0.98       276\n",
      "           1       0.96      0.98      0.97       330\n",
      "           2       0.95      0.98      0.97       234\n",
      "           3       0.96      0.97      0.97       310\n",
      "           4       0.96      0.93      0.95       190\n",
      "           5       1.00      0.96      0.98       247\n",
      "           6       1.00      0.92      0.96        39\n",
      "           7       0.97      0.97      0.97       195\n",
      "           8       0.97      0.97      0.97       311\n",
      "\n",
      "    accuracy                           0.97      2132\n",
      "   macro avg       0.97      0.96      0.97      2132\n",
      "weighted avg       0.97      0.97      0.97      2132\n",
      "\n"
     ]
    },
    {
     "data": {
      "image/png": "[encoded data removed]",
      "text/plain": [
       "<Figure size 1000x800 with 2 Axes>"
      ]
     },
     "metadata": {},
     "output_type": "display_data"
    },
    {
     "name": "stderr",
     "output_type": "stream",
     "text": [
      "WARNING:absl:You are saving your model as an HDF5 file via `model.save()` or `keras.saving.save_model(model)`. This file format is considered legacy. We recommend using instead the native Keras format, e.g. `model.save('my_model.keras')` or `keras.saving.save_model(model, 'my_model.keras')`. \n"
     ]
    },
    {
     "name": "stdout",
     "output_type": "stream",
     "text": [
      "Entrenamiento completado y modelo guardado.\n"
     ]
    }
   ],
   "source": [
    "from tensorflow.keras.models import Sequential\n",
    "from tensorflow.keras.layers import Conv2D, MaxPooling2D, Flatten, Dense, Dropout, LSTM, Reshape\n",
    "from tensorflow.keras.optimizers import Adam\n",
    "from tensorflow.keras.callbacks import EarlyStopping\n",
    "from sklearn.metrics import classification_report, confusion_matrix\n",
    "import numpy as np\n",
    "import os\n",
    "import matplotlib.pyplot as plt\n",
    "import seaborn as sns\n",
    "\n",
    "# Función para cargar datos\n",
    "def load_data(output_dir, file_name):\n",
    "    file_path = os.path.join(output_dir, file_name)\n",
    "    data = np.load(file_path)\n",
    "    return data\n",
    "\n",
    "# Directorio donde se encuentran los datos preprocesados\n",
    "output_dir = r\"C:\\Users\\Usuario\\Desktop\\mi_proyecto\\imagenes_procesadas\"\n",
    "\n",
    "# Cargar los conjuntos de datos preprocesados\n",
    "X_train = load_data(output_dir, 'X_train.npy')\n",
    "y_train = load_data(output_dir, 'y_train.npy')\n",
    "X_val = load_data(output_dir, 'X_val.npy')\n",
    "y_val = load_data(output_dir, 'y_val.npy')\n",
    "X_test = load_data(output_dir, 'X_test.npy')\n",
    "y_test = load_data(output_dir, 'y_test.npy')\n",
    "\n",
    "# Verificar dimensiones de datos cargados\n",
    "print(f\"X_train shape: {X_train.shape}\")\n",
    "print(f\"y_train shape: {y_train.shape}\")\n",
    "print(f\"X_val shape: {X_val.shape}\")\n",
    "print(f\"y_val shape: {y_val.shape}\")\n",
    "print(f\"X_test shape: {X_test.shape}\")\n",
    "print(f\"y_test shape: {y_test.shape}\")\n",
    "\n",
    "# Definir la arquitectura del modelo CNN + LSTM\n",
    "model = Sequential([\n",
    "    Conv2D(32, (3, 3), activation='relu', input_shape=(224, 224, 3)),\n",
    "    MaxPooling2D((2, 2)),\n",
    "    Conv2D(64, (3, 3), activation='relu'),\n",
    "    MaxPooling2D((2, 2)),\n",
    "    Conv2D(128, (3, 3), activation='relu'),\n",
    "    MaxPooling2D((2, 2)),\n",
    "    Flatten(),\n",
    "    Reshape((1, -1)),  # Ajustar la forma para LSTM\n",
    "    LSTM(64),\n",
    "    Dense(512, activation='relu'),\n",
    "    Dropout(0.5),\n",
    "    Dense(len(np.unique(y_train)), activation='softmax')\n",
    "])\n",
    "\n",
    "# Compilar el modelo\n",
    "model.compile(optimizer=Adam(), loss='sparse_categorical_crossentropy', metrics=['accuracy'])\n",
    "\n",
    "# Definir los callbacks\n",
    "early_stopping = EarlyStopping(monitor='val_loss', patience=10, restore_best_weights=True)\n",
    "\n",
    "# Entrenar el modelo\n",
    "history = model.fit(\n",
    "    X_train, y_train,\n",
    "    validation_data=(X_val, y_val),\n",
    "    epochs=50,\n",
    "    batch_size=32,\n",
    "    callbacks=[early_stopping]\n",
    ")\n",
    "\n",
    "# Evaluar el modelo en el conjunto de prueba\n",
    "test_loss, test_accuracy = model.evaluate(X_test, y_test)\n",
    "print(f\"Test accuracy: {test_accuracy}\")\n",
    "\n",
    "# Predicciones\n",
    "y_pred = model.predict(X_test)\n",
    "y_pred_classes = np.argmax(y_pred, axis=1)\n",
    "\n",
    "# Reporte de clasificación\n",
    "report = classification_report(y_test, y_pred_classes, target_names=np.unique(y_train).astype(str))\n",
    "print(report)\n",
    "\n",
    "# Matriz de confusión\n",
    "conf_matrix = confusion_matrix(y_test, y_pred_classes)\n",
    "plt.figure(figsize=(10, 8))\n",
    "sns.heatmap(conf_matrix, annot=True, fmt='d', cmap='Blues', xticklabels=np.unique(y_train).astype(str), yticklabels=np.unique(y_train).astype(str))\n",
    "plt.xlabel('Predicted')\n",
    "plt.ylabel('True')\n",
    "plt.title('Confusion Matrix')\n",
    "plt.show()\n",
    "\n",
    "# Guardar el modelo entrenado\n",
    "model.save(os.path.join(output_dir, 'modelo_boxeo_cnn_lstm.h5'))\n",
    "\n",
    "print(\"Entrenamiento completado y modelo guardado.\")\n",
    "\n",
    "# Graficar las métricas de entrenamiento\n",
    "plt.figure(figsize=(12, 4))\n",
    "plt.subplot(1, 2, 1)\n",
    "plt.plot(history.history['loss'], label='Training Loss')\n",
    "plt.plot(history.history['val_loss'], label='Validation Loss')\n",
    "plt.xlabel('Epochs')\n",
    "plt.ylabel('Loss')\n",
    "plt.title('Loss over epochs')\n",
    "plt.legend()\n",
    "\n",
    "plt.subplot(1, 2, 2)\n",
    "plt.plot(history.history['accuracy'], label='Training Accuracy')\n",
    "plt.plot(history.history['val_accuracy'], label='Validation Accuracy')\n",
    "plt.xlabel('Epochs')\n",
    "plt.ylabel('Accuracy')\n",
    "plt.title('Accuracy over epochs')\n",
    "plt.legend()\n",
    "\n",
    "plt.show()\n"
   ]
  },
  {
   "cell_type": "code",
   "execution_count": null,
   "id": "3b393219-f81a-4061-9b03-7c166d1189b6",
   "metadata": {},
   "outputs": [],
   "source": []
  },
  {
   "cell_type": "code",
   "execution_count": null,
   "id": "1c8c2f6f-bcf0-406f-a3a0-b793138ece3c",
   "metadata": {},
   "outputs": [],
   "source": []
  },
  {
   "cell_type": "code",
   "execution_count": null,
   "id": "02ea9913-8dc5-46c3-be64-6944d4ef6a08",
   "metadata": {},
   "outputs": [],
   "source": []
  },
  {
   "cell_type": "code",
   "execution_count": null,
   "id": "9eb89c81-835e-467c-81fe-6fde19f53d52",
   "metadata": {},
   "outputs": [],
   "source": []
  },
  {
   "cell_type": "code",
   "execution_count": null,
   "id": "815193b3-2d36-4682-bdc8-69fd378d59a8",
   "metadata": {},
   "outputs": [],
   "source": []
  },
  {
   "cell_type": "code",
   "execution_count": null,
   "id": "62f19754-62f1-4564-a547-5d829f36c2b1",
   "metadata": {},
   "outputs": [],
   "source": []
  },
  {
   "cell_type": "code",
   "execution_count": null,
   "id": "42841cfa-dd00-4c42-a8f9-8bf8219e82cc",
   "metadata": {},
   "outputs": [],
   "source": []
  },
  {
   "cell_type": "code",
   "execution_count": null,
   "id": "cbba854d-ff81-4b10-94df-0b698c812e50",
   "metadata": {},
   "outputs": [],
   "source": []
  },
  {
   "cell_type": "code",
   "execution_count": null,
   "id": "13fbefdc-03c7-4d77-a62a-c12d5cc25452",
   "metadata": {},
   "outputs": [],
   "source": []
  },
  {
   "cell_type": "code",
   "execution_count": null,
   "id": "3afd62d7-d8ef-464b-9456-63bf051b77d7",
   "metadata": {},
   "outputs": [],
   "source": []
  },
  {
   "cell_type": "code",
   "execution_count": null,
   "id": "ca7b34d5-243f-472c-943a-b82c3f9282df",
   "metadata": {},
   "outputs": [],
   "source": []
  },
  {
   "cell_type": "code",
   "execution_count": null,
   "id": "a17d7dd9-ba1c-4362-b2ef-1709e53c1bb2",
   "metadata": {},
   "outputs": [],
   "source": []
  },
  {
   "cell_type": "code",
   "execution_count": null,
   "id": "69185ffd-9c94-4c0a-9c61-98c9405d00ab",
   "metadata": {},
   "outputs": [],
   "source": []
  },
  {
   "cell_type": "code",
   "execution_count": null,
   "id": "5ee09b4a-8324-4bcf-a673-db8ad1a1e8f9",
   "metadata": {},
   "outputs": [],
   "source": []
  },
  {
   "cell_type": "code",
   "execution_count": null,
   "id": "e6dd2b3e-916a-4ff0-bba1-116170677a94",
   "metadata": {},
   "outputs": [],
   "source": []
  },
  {
   "cell_type": "code",
   "execution_count": null,
   "id": "6662d8fe-7ffc-400b-9bb6-706a2f3973a5",
   "metadata": {},
   "outputs": [],
   "source": []
  },
  {
   "cell_type": "code",
   "execution_count": null,
   "id": "78566cad-f962-4316-9cc9-61bf9d5cabf9",
   "metadata": {},
   "outputs": [],
   "source": []
  },
  {
   "cell_type": "code",
   "execution_count": null,
   "id": "2bbed1a7-ae03-4ace-8f80-7aef5b736e28",
   "metadata": {},
   "outputs": [],
   "source": []
  },
  {
   "cell_type": "code",
   "execution_count": null,
   "id": "a17140cd-9d61-4e97-aabf-969efbfe972d",
   "metadata": {},
   "outputs": [],
   "source": []
  },
  {
   "cell_type": "code",
   "execution_count": null,
   "id": "580078ce-e035-426c-8571-1124232c8885",
   "metadata": {},
   "outputs": [],
   "source": []
  },
  {
   "cell_type": "code",
   "execution_count": null,
   "id": "78e04ac8-3170-4c97-a8b4-6e6123a00d72",
   "metadata": {},
   "outputs": [],
   "source": []
  },
  {
   "cell_type": "code",
   "execution_count": null,
   "id": "221c8c9c-adac-4734-aa62-633caeda30fd",
   "metadata": {},
   "outputs": [],
   "source": []
  },
  {
   "cell_type": "code",
   "execution_count": null,
   "id": "86ae26d3-e3a5-4e39-a47f-cefd0c916bef",
   "metadata": {},
   "outputs": [],
   "source": []
  },
  {
   "cell_type": "code",
   "execution_count": null,
   "id": "4d1d5f9b-b4a6-4e54-a29a-7b8f46c15fb9",
   "metadata": {},
   "outputs": [],
   "source": []
  },
  {
   "cell_type": "code",
   "execution_count": null,
   "id": "55b73f1e-e80d-4353-bdf6-a336aa69b1fe",
   "metadata": {},
   "outputs": [],
   "source": []
  },
  {
   "cell_type": "code",
   "execution_count": null,
   "id": "c0d25256-a08f-44cc-bb7a-ecd98b23d50e",
   "metadata": {},
   "outputs": [],
   "source": []
  },
  {
   "cell_type": "code",
   "execution_count": null,
   "id": "ead3536e-ab7b-4041-bb88-5f741a3b78d5",
   "metadata": {},
   "outputs": [],
   "source": []
  },
  {
   "cell_type": "code",
   "execution_count": null,
   "id": "e38f98f9-93f7-4eae-8893-664ca8e19449",
   "metadata": {},
   "outputs": [],
   "source": []
  },
  {
   "cell_type": "code",
   "execution_count": null,
   "id": "b1d00d8f-f46b-4792-8fb0-81bd822837bb",
   "metadata": {},
   "outputs": [],
   "source": []
  },
  {
   "cell_type": "code",
   "execution_count": null,
   "id": "4a0d1c3d-d69d-4a63-b76e-d1b35cea4285",
   "metadata": {},
   "outputs": [],
   "source": []
  },
  {
   "cell_type": "code",
   "execution_count": null,
   "id": "904158af-1313-41fb-b23b-ed7df18f14dd",
   "metadata": {},
   "outputs": [],
   "source": []
  },
  {
   "cell_type": "code",
   "execution_count": null,
   "id": "78267dc8-2191-468e-9223-255f728c371d",
   "metadata": {},
   "outputs": [],
   "source": []
  },
  {
   "cell_type": "code",
   "execution_count": null,
   "id": "4745415c-b1aa-4117-89c7-8bce4a5f063c",
   "metadata": {},
   "outputs": [],
   "source": []
  },
  {
   "cell_type": "code",
   "execution_count": null,
   "id": "7841346a-c7b9-4c15-83e8-a0f29c01c674",
   "metadata": {},
   "outputs": [],
   "source": []
  },
  {
   "cell_type": "code",
   "execution_count": null,
   "id": "8949117b-a898-41f0-aaa2-d95d2a4acbf9",
   "metadata": {},
   "outputs": [],
   "source": []
  },
  {
   "cell_type": "code",
   "execution_count": null,
   "id": "0467c024-3c2a-4584-b6a0-a2ddeb9ef6bd",
   "metadata": {},
   "outputs": [],
   "source": []
  },
  {
   "cell_type": "code",
   "execution_count": null,
   "id": "1c435dee-e9bf-4401-93c5-2ff25a96d25f",
   "metadata": {},
   "outputs": [],
   "source": []
  },
  {
   "cell_type": "code",
   "execution_count": null,
   "id": "71f1ecb7-841f-4bf9-88dc-b607ec0a1d7f",
   "metadata": {},
   "outputs": [],
   "source": []
  }
 ],
 "metadata": {
  "kernelspec": {
   "display_name": "Python 3 (ipykernel)",
   "language": "python",
   "name": "python3"
  },
  "language_info": {
   "codemirror_mode": {
    "name": "ipython",
    "version": 3
   },
   "file_extension": ".py",
   "mimetype": "text/x-python",
   "name": "python",
   "nbconvert_exporter": "python",
   "pygments_lexer": "ipython3",
   "version": "3.11.4"
  }
 },
 "nbformat": 4,
 "nbformat_minor": 5
}
